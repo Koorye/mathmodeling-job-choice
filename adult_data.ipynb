{
 "cells": [
  {
   "cell_type": "code",
   "execution_count": 139,
   "metadata": {
    "pycharm": {
     "name": "#%%\n"
    }
   },
   "outputs": [],
   "source": [
    "import pandas as pd\n",
    "import numpy as np\n",
    "import sklearn.model_selection\n",
    "import sklearn.ensemble"
   ]
  },
  {
   "cell_type": "code",
   "execution_count": 140,
   "outputs": [
    {
     "data": {
      "text/plain": "       年龄                 工种           学历  受教育时间(年)                  职业  \\\n0      39          State-gov    Bachelors        13        Adm-clerical   \n1      50   Self-emp-not-inc    Bachelors        13     Exec-managerial   \n2      38            Private      HS-grad         9   Handlers-cleaners   \n3      53            Private         11th         7   Handlers-cleaners   \n4      28            Private    Bachelors        13      Prof-specialty   \n...    ..                ...          ...       ...                 ...   \n32556  27            Private   Assoc-acdm        12        Tech-support   \n32557  40            Private      HS-grad         9   Machine-op-inspct   \n32558  58            Private      HS-grad         9        Adm-clerical   \n32559  22            Private      HS-grad         9        Adm-clerical   \n32560  52       Self-emp-inc      HS-grad         9     Exec-managerial   \n\n            性别  每周工作时长      身高     体重  \n0         Male      40  156.92  45.58  \n1         Male      13  151.45  65.10  \n2         Male      40  166.05  52.68  \n3         Male      40  163.45  63.45  \n4       Female      40  157.60  54.33  \n...        ...     ...     ...    ...  \n32556   Female      38  153.24  59.09  \n32557     Male      40  158.28  61.78  \n32558   Female      40  150.46  42.72  \n32559     Male      20  156.35  74.07  \n32560   Female      40  159.44  77.18  \n\n[32561 rows x 9 columns]",
      "text/html": "<div>\n<style scoped>\n    .dataframe tbody tr th:only-of-type {\n        vertical-align: middle;\n    }\n\n    .dataframe tbody tr th {\n        vertical-align: top;\n    }\n\n    .dataframe thead th {\n        text-align: right;\n    }\n</style>\n<table border=\"1\" class=\"dataframe\">\n  <thead>\n    <tr style=\"text-align: right;\">\n      <th></th>\n      <th>年龄</th>\n      <th>工种</th>\n      <th>学历</th>\n      <th>受教育时间(年)</th>\n      <th>职业</th>\n      <th>性别</th>\n      <th>每周工作时长</th>\n      <th>身高</th>\n      <th>体重</th>\n    </tr>\n  </thead>\n  <tbody>\n    <tr>\n      <th>0</th>\n      <td>39</td>\n      <td>State-gov</td>\n      <td>Bachelors</td>\n      <td>13</td>\n      <td>Adm-clerical</td>\n      <td>Male</td>\n      <td>40</td>\n      <td>156.92</td>\n      <td>45.58</td>\n    </tr>\n    <tr>\n      <th>1</th>\n      <td>50</td>\n      <td>Self-emp-not-inc</td>\n      <td>Bachelors</td>\n      <td>13</td>\n      <td>Exec-managerial</td>\n      <td>Male</td>\n      <td>13</td>\n      <td>151.45</td>\n      <td>65.10</td>\n    </tr>\n    <tr>\n      <th>2</th>\n      <td>38</td>\n      <td>Private</td>\n      <td>HS-grad</td>\n      <td>9</td>\n      <td>Handlers-cleaners</td>\n      <td>Male</td>\n      <td>40</td>\n      <td>166.05</td>\n      <td>52.68</td>\n    </tr>\n    <tr>\n      <th>3</th>\n      <td>53</td>\n      <td>Private</td>\n      <td>11th</td>\n      <td>7</td>\n      <td>Handlers-cleaners</td>\n      <td>Male</td>\n      <td>40</td>\n      <td>163.45</td>\n      <td>63.45</td>\n    </tr>\n    <tr>\n      <th>4</th>\n      <td>28</td>\n      <td>Private</td>\n      <td>Bachelors</td>\n      <td>13</td>\n      <td>Prof-specialty</td>\n      <td>Female</td>\n      <td>40</td>\n      <td>157.60</td>\n      <td>54.33</td>\n    </tr>\n    <tr>\n      <th>...</th>\n      <td>...</td>\n      <td>...</td>\n      <td>...</td>\n      <td>...</td>\n      <td>...</td>\n      <td>...</td>\n      <td>...</td>\n      <td>...</td>\n      <td>...</td>\n    </tr>\n    <tr>\n      <th>32556</th>\n      <td>27</td>\n      <td>Private</td>\n      <td>Assoc-acdm</td>\n      <td>12</td>\n      <td>Tech-support</td>\n      <td>Female</td>\n      <td>38</td>\n      <td>153.24</td>\n      <td>59.09</td>\n    </tr>\n    <tr>\n      <th>32557</th>\n      <td>40</td>\n      <td>Private</td>\n      <td>HS-grad</td>\n      <td>9</td>\n      <td>Machine-op-inspct</td>\n      <td>Male</td>\n      <td>40</td>\n      <td>158.28</td>\n      <td>61.78</td>\n    </tr>\n    <tr>\n      <th>32558</th>\n      <td>58</td>\n      <td>Private</td>\n      <td>HS-grad</td>\n      <td>9</td>\n      <td>Adm-clerical</td>\n      <td>Female</td>\n      <td>40</td>\n      <td>150.46</td>\n      <td>42.72</td>\n    </tr>\n    <tr>\n      <th>32559</th>\n      <td>22</td>\n      <td>Private</td>\n      <td>HS-grad</td>\n      <td>9</td>\n      <td>Adm-clerical</td>\n      <td>Male</td>\n      <td>20</td>\n      <td>156.35</td>\n      <td>74.07</td>\n    </tr>\n    <tr>\n      <th>32560</th>\n      <td>52</td>\n      <td>Self-emp-inc</td>\n      <td>HS-grad</td>\n      <td>9</td>\n      <td>Exec-managerial</td>\n      <td>Female</td>\n      <td>40</td>\n      <td>159.44</td>\n      <td>77.18</td>\n    </tr>\n  </tbody>\n</table>\n<p>32561 rows × 9 columns</p>\n</div>"
     },
     "execution_count": 140,
     "metadata": {},
     "output_type": "execute_result"
    }
   ],
   "source": [
    "adult_data = pd.read_csv('成人收入数据集2.csv')\n",
    "adult_data"
   ],
   "metadata": {
    "collapsed": false,
    "pycharm": {
     "name": "#%%\n"
    }
   }
  },
  {
   "cell_type": "code",
   "execution_count": 141,
   "metadata": {},
   "outputs": [
    {
     "data": {
      "text/plain": "array([' 10th', ' 11th', ' 12th', ' 1st-4th', ' 5th-6th', ' 7th-8th',\n       ' 9th', ' Assoc-acdm', ' Assoc-voc', ' Bachelors', ' Doctorate',\n       ' HS-grad', ' Masters', ' Preschool', ' Prof-school',\n       ' Some-college'], dtype=object)"
     },
     "execution_count": 141,
     "metadata": {},
     "output_type": "execute_result"
    }
   ],
   "source": [
    "np.unique(adult_data['学历'])"
   ]
  },
  {
   "cell_type": "code",
   "execution_count": 142,
   "metadata": {
    "pycharm": {
     "name": "#%%\n"
    }
   },
   "outputs": [
    {
     "data": {
      "text/plain": "       年龄           学历  受教育时间(年)       性别\n0      39    Bachelors        13     Male\n1      50    Bachelors        13     Male\n2      38      HS-grad         9     Male\n3      53         11th         7     Male\n4      28    Bachelors        13   Female\n...    ..          ...       ...      ...\n32556  27   Assoc-acdm        12   Female\n32557  40      HS-grad         9     Male\n32558  58      HS-grad         9   Female\n32559  22      HS-grad         9     Male\n32560  52      HS-grad         9   Female\n\n[32561 rows x 4 columns]",
      "text/html": "<div>\n<style scoped>\n    .dataframe tbody tr th:only-of-type {\n        vertical-align: middle;\n    }\n\n    .dataframe tbody tr th {\n        vertical-align: top;\n    }\n\n    .dataframe thead th {\n        text-align: right;\n    }\n</style>\n<table border=\"1\" class=\"dataframe\">\n  <thead>\n    <tr style=\"text-align: right;\">\n      <th></th>\n      <th>年龄</th>\n      <th>学历</th>\n      <th>受教育时间(年)</th>\n      <th>性别</th>\n    </tr>\n  </thead>\n  <tbody>\n    <tr>\n      <th>0</th>\n      <td>39</td>\n      <td>Bachelors</td>\n      <td>13</td>\n      <td>Male</td>\n    </tr>\n    <tr>\n      <th>1</th>\n      <td>50</td>\n      <td>Bachelors</td>\n      <td>13</td>\n      <td>Male</td>\n    </tr>\n    <tr>\n      <th>2</th>\n      <td>38</td>\n      <td>HS-grad</td>\n      <td>9</td>\n      <td>Male</td>\n    </tr>\n    <tr>\n      <th>3</th>\n      <td>53</td>\n      <td>11th</td>\n      <td>7</td>\n      <td>Male</td>\n    </tr>\n    <tr>\n      <th>4</th>\n      <td>28</td>\n      <td>Bachelors</td>\n      <td>13</td>\n      <td>Female</td>\n    </tr>\n    <tr>\n      <th>...</th>\n      <td>...</td>\n      <td>...</td>\n      <td>...</td>\n      <td>...</td>\n    </tr>\n    <tr>\n      <th>32556</th>\n      <td>27</td>\n      <td>Assoc-acdm</td>\n      <td>12</td>\n      <td>Female</td>\n    </tr>\n    <tr>\n      <th>32557</th>\n      <td>40</td>\n      <td>HS-grad</td>\n      <td>9</td>\n      <td>Male</td>\n    </tr>\n    <tr>\n      <th>32558</th>\n      <td>58</td>\n      <td>HS-grad</td>\n      <td>9</td>\n      <td>Female</td>\n    </tr>\n    <tr>\n      <th>32559</th>\n      <td>22</td>\n      <td>HS-grad</td>\n      <td>9</td>\n      <td>Male</td>\n    </tr>\n    <tr>\n      <th>32560</th>\n      <td>52</td>\n      <td>HS-grad</td>\n      <td>9</td>\n      <td>Female</td>\n    </tr>\n  </tbody>\n</table>\n<p>32561 rows × 4 columns</p>\n</div>"
     },
     "execution_count": 142,
     "metadata": {},
     "output_type": "execute_result"
    }
   ],
   "source": [
    "data = adult_data[['年龄', '学历', '受教育时间(年)', '性别']]\n",
    "data"
   ]
  },
  {
   "cell_type": "code",
   "execution_count": 143,
   "metadata": {
    "pycharm": {
     "name": "#%%\n"
    }
   },
   "outputs": [
    {
     "data": {
      "text/plain": "array([' 1st-4th', ' Some-college', ' 初中及以下', '初中及以下', '博士', '硕士', '高中'],\n      dtype=object)"
     },
     "execution_count": 143,
     "metadata": {},
     "output_type": "execute_result"
    }
   ],
   "source": [
    "data = data.replace(' 9th', '高中')\n",
    "data = data.replace(' 10th', '高中')\n",
    "data = data.replace(' 11th', '高中')\n",
    "data = data.replace(' 12th', '高中')\n",
    "data = data.replace(' 5th-6th', '初中及以下')\n",
    "data = data.replace(' 7th-8th', '初中及以下')\n",
    "data = data.replace(' Preschool', ' 初中及以下')\n",
    "data = data.replace(' Prof-school', '硕士')\n",
    "data = data.replace(' HS-grad', '高中')\n",
    "data = data.replace(' Masters', '硕士')\n",
    "data = data.replace(' Bachelors', '硕士')\n",
    "data = data.replace(' Assoc-voc', '博士')\n",
    "data = data.replace(' Assoc-acdm', '博士')\n",
    "data = data.replace(' Doctorate', '博士')\n",
    "data = data.replace(' Some-college', '本科')"
   ]
  },
  {
   "cell_type": "code",
   "execution_count": 144,
   "metadata": {
    "pycharm": {
     "name": "#%%\n"
    }
   },
   "outputs": [
    {
     "data": {
      "text/plain": "array([[39],\n       [50],\n       [38],\n       ...,\n       [58],\n       [22],\n       [52]], dtype=int64)"
     },
     "execution_count": 144,
     "metadata": {},
     "output_type": "execute_result"
    }
   ],
   "source": [
    "age_array = np.array(data['年龄']).reshape(-1, 1)\n",
    "age_array"
   ]
  },
  {
   "cell_type": "code",
   "execution_count": 145,
   "metadata": {
    "pycharm": {
     "name": "#%%\n"
    }
   },
   "outputs": [
    {
     "data": {
      "text/plain": "array([[0., 0., 0., ..., 0., 1., 0.],\n       [0., 0., 0., ..., 0., 1., 0.],\n       [0., 0., 0., ..., 0., 0., 1.],\n       ...,\n       [0., 0., 0., ..., 0., 0., 1.],\n       [0., 0., 0., ..., 0., 0., 1.],\n       [0., 0., 0., ..., 0., 0., 1.]])"
     },
     "execution_count": 145,
     "metadata": {},
     "output_type": "execute_result"
    }
   ],
   "source": [
    "education_array = sklearn.preprocessing.OneHotEncoder().fit_transform(np.array(data['学历']).reshape(-1,1)).toarray()\n",
    "education_array"
   ]
  },
  {
   "cell_type": "code",
   "execution_count": 146,
   "metadata": {
    "pycharm": {
     "name": "#%%\n"
    }
   },
   "outputs": [
    {
     "data": {
      "text/plain": "array([[0., 1.],\n       [0., 1.],\n       [0., 1.],\n       ...,\n       [1., 0.],\n       [0., 1.],\n       [1., 0.]])"
     },
     "execution_count": 146,
     "metadata": {},
     "output_type": "execute_result"
    }
   ],
   "source": [
    "gender_array = sklearn.preprocessing.OneHotEncoder().fit_transform(np.array(data['性别']).reshape(-1,1)).toarray()\n",
    "gender_array"
   ]
  },
  {
   "cell_type": "code",
   "execution_count": 147,
   "metadata": {
    "pycharm": {
     "name": "#%%\n"
    }
   },
   "outputs": [
    {
     "data": {
      "text/plain": "array([[13],\n       [13],\n       [ 9],\n       ...,\n       [ 9],\n       [ 9],\n       [ 9]], dtype=int64)"
     },
     "execution_count": 147,
     "metadata": {},
     "output_type": "execute_result"
    }
   ],
   "source": [
    "education_time_array = np.array(data['受教育时间(年)']).reshape(-1, 1)\n",
    "education_time_array"
   ]
  },
  {
   "cell_type": "code",
   "execution_count": 174,
   "metadata": {
    "pycharm": {
     "name": "#%%\n"
    }
   },
   "outputs": [
    {
     "data": {
      "text/plain": "(32561, 11)"
     },
     "execution_count": 174,
     "metadata": {},
     "output_type": "execute_result"
    }
   ],
   "source": [
    "temp_data = np.concatenate((age_array, gender_array, education_time_array, education_array), axis=1)\n",
    "temp_data.shape"
   ]
  },
  {
   "cell_type": "code",
   "execution_count": 178,
   "metadata": {
    "pycharm": {
     "name": "#%%\n"
    }
   },
   "outputs": [
    {
     "data": {
      "text/plain": "(32561, 1)"
     },
     "execution_count": 178,
     "metadata": {},
     "output_type": "execute_result"
    }
   ],
   "source": [
    "target = np.array(adult_data['职业']).reshape(-1,1)\n",
    "target.shape"
   ]
  },
  {
   "cell_type": "code",
   "execution_count": 179,
   "outputs": [],
   "source": [
    "pd.DataFrame(np.concatenate((temp_data, target), axis=1)).to_csv('成人收入数据集-预处理后.csv')"
   ],
   "metadata": {
    "collapsed": false,
    "pycharm": {
     "name": "#%%\n"
    }
   }
  },
  {
   "cell_type": "code",
   "execution_count": 150,
   "metadata": {
    "pycharm": {
     "name": "#%%\n"
    }
   },
   "outputs": [],
   "source": [
    "target = target.replace(' ?', None)\n",
    "target = target.replace(' Adm-clerical', '教育')\n",
    "target = target.replace(' Armed-Forces', None)\n",
    "target = target.replace(' Craft-repair', None)\n",
    "target = target.replace(' Handlers-cleaners', '服务')\n",
    "target = target.replace(' Machine-op-inspct', '服务')\n",
    "target = target.replace(' Transport-moving', '服务')\n",
    "target = target.replace(' Other-service', None)\n",
    "target = target.replace(' Priv-house-serv', '销售')\n",
    "target = target.replace(' Sales', '销售')\n",
    "target = target.replace(' Tech-support', '服务')\n",
    "target = target.replace(' Farming-fishing', None)\n",
    "target = target.replace(' Exec-managerial', '教育')\n",
    "target = target.replace(' Prof-specialty', '教育')\n",
    "target = target.replace(' Protective-serv', None)"
   ]
  },
  {
   "cell_type": "code",
   "execution_count": 151,
   "metadata": {
    "pycharm": {
     "name": "#%%\n"
    }
   },
   "outputs": [
    {
     "data": {
      "text/plain": "array(['教育', '服务', '销售'], dtype=object)"
     },
     "execution_count": 151,
     "metadata": {},
     "output_type": "execute_result"
    }
   ],
   "source": [
    "np.unique(target)"
   ]
  },
  {
   "cell_type": "code",
   "execution_count": 152,
   "metadata": {
    "pycharm": {
     "name": "#%%\n"
    }
   },
   "outputs": [
    {
     "data": {
      "text/plain": "array([0, 0, 1, ..., 0, 0, 0])"
     },
     "execution_count": 152,
     "metadata": {},
     "output_type": "execute_result"
    }
   ],
   "source": [
    "target = sklearn.preprocessing.LabelEncoder().fit_transform(target)\n",
    "target"
   ]
  },
  {
   "cell_type": "code",
   "execution_count": 158,
   "metadata": {
    "pycharm": {
     "name": "#%%\n"
    }
   },
   "outputs": [],
   "source": [
    "class Model:\n",
    "    def __init__(self):\n",
    "        self.data = temp_data\n",
    "        self.target = target\n",
    "        self.train_x, self.test_x, self.train_y, self.test_y = sklearn.model_selection.train_test_split(self.data, self.target)\n",
    "\n",
    "    def fit(self, n_estimators, max_depth):\n",
    "        self.classifier = sklearn.ensemble.RandomForestClassifier(n_estimators=n_estimators,\n",
    "                                                                  criterion='entropy',\n",
    "                                                                  max_depth=max_depth)\n",
    "        self.classifier.fit(self.train_x, self.train_y)\n",
    "        return self.classifier.score(self.train_x, self.train_y), self.classifier.score(self.test_x, self.test_y)\n",
    "\n",
    "    def predict(self, x):\n",
    "        self.classifier.predict(x)"
   ]
  },
  {
   "cell_type": "code",
   "execution_count": 159,
   "metadata": {
    "pycharm": {
     "name": "#%%\n"
    }
   },
   "outputs": [],
   "source": [
    "model = Model()\n",
    "model.fit(43, 7)"
   ]
  },
  {
   "cell_type": "code",
   "execution_count": 163,
   "outputs": [],
   "source": [
    "import sklearn.decomposition\n",
    "import sklearn.mixture"
   ],
   "metadata": {
    "collapsed": false,
    "pycharm": {
     "name": "#%%\n"
    }
   }
  },
  {
   "cell_type": "code",
   "execution_count": 164,
   "outputs": [
    {
     "data": {
      "text/plain": "array([[  0.44424101,  -3.01071039],\n       [ 11.44374284,  -2.9288406 ],\n       [ -0.5877927 ,   1.15066359],\n       ...,\n       [ 19.40515767,   1.30301524],\n       [-16.58706808,   1.03158026],\n       [ 13.4054294 ,   1.25835899]])"
     },
     "execution_count": 164,
     "metadata": {},
     "output_type": "execute_result"
    }
   ],
   "source": [
    "pca_data = sklearn.decomposition.PCA(n_components=2).fit_transform(model.data)\n",
    "pca_data"
   ],
   "metadata": {
    "collapsed": false,
    "pycharm": {
     "name": "#%%\n"
    }
   }
  },
  {
   "cell_type": "code",
   "execution_count": 187,
   "outputs": [],
   "source": [
    "data = model.data[:1000]\n",
    "label = model.target[:1000]"
   ],
   "metadata": {
    "collapsed": false,
    "pycharm": {
     "name": "#%%\n"
    }
   }
  },
  {
   "cell_type": "code",
   "execution_count": 189,
   "outputs": [
    {
     "data": {
      "text/plain": "(1000, 11)"
     },
     "execution_count": 189,
     "metadata": {},
     "output_type": "execute_result"
    }
   ],
   "source": [
    "data.shape"
   ],
   "metadata": {
    "collapsed": false,
    "pycharm": {
     "name": "#%%\n"
    }
   }
  },
  {
   "cell_type": "code",
   "execution_count": 190,
   "outputs": [
    {
     "data": {
      "text/plain": "(1000,)"
     },
     "execution_count": 190,
     "metadata": {},
     "output_type": "execute_result"
    }
   ],
   "source": [
    "label.shape"
   ],
   "metadata": {
    "collapsed": false,
    "pycharm": {
     "name": "#%%\n"
    }
   }
  },
  {
   "cell_type": "code",
   "execution_count": 195,
   "outputs": [
    {
     "name": "stdout",
     "output_type": "stream",
     "text": [
      "0.14245287482950011\n",
      "0.005914248901984523\n",
      "-0.08597969420864132\n",
      "-0.0769344141455385\n",
      "-0.12999107821648168\n",
      "-0.16729812480861653\n",
      "-0.24438682878879006\n",
      "-0.24351167702331317\n",
      "-0.1618563763962194\n",
      "-0.2608944071939006\n",
      "-0.2154353805047147\n",
      "-0.3349118416685383\n",
      "-0.3484268525976161\n",
      "-0.31188661895125186\n",
      "-0.4111879733053983\n",
      "-0.3303340148822374\n",
      "-0.3457766144374539\n",
      "-0.504642792833653\n"
     ]
    }
   ],
   "source": [
    "y = []\n",
    "for i in range(2, 20):\n",
    "    gmm = sklearn.mixture.GaussianMixture(n_components=i).fit_predict(data, label)\n",
    "    score = sklearn.metrics.silhouette_score(data, gmm)\n",
    "    print(score)\n",
    "    y.append(abs(score))"
   ],
   "metadata": {
    "collapsed": false,
    "pycharm": {
     "name": "#%%\n"
    }
   }
  },
  {
   "cell_type": "code",
   "execution_count": 199,
   "outputs": [
    {
     "data": {
      "text/plain": "<Figure size 432x288 with 1 Axes>",
      "image/png": "[encoded data removed]"
     },
     "metadata": {
      "needs_background": "light"
     },
     "output_type": "display_data"
    }
   ],
   "source": [
    "import matplotlib.pyplot as plt\n",
    "\n",
    "plt.xticks(range(2, 20))\n",
    "plt.plot(range(2,20), y)\n",
    "plt.savefig('高斯聚类轮廓系数.png')"
   ],
   "metadata": {
    "collapsed": false,
    "pycharm": {
     "name": "#%%\n"
    }
   }
  },
  {
   "cell_type": "code",
   "execution_count": 168,
   "outputs": [],
   "source": [
    "import matplotlib.pyplot as plt\n",
    "\n",
    "education = []\n",
    "service = []\n",
    "sale = []\n",
    "for index, each in enumerate(pca_data[:10000]):\n",
    "    if gmm[index] == 0:\n",
    "        education.append(each)\n",
    "    elif gmm[index] == 1:\n",
    "        service.append(each)\n",
    "    else:\n",
    "        sale.append(each)\n",
    "\n",
    "education = np.mat(education)\n",
    "service = np.mat(service)\n",
    "sale = np.mat(sale)"
   ],
   "metadata": {
    "collapsed": false,
    "pycharm": {
     "name": "#%%\n"
    }
   }
  },
  {
   "cell_type": "code",
   "execution_count": 169,
   "outputs": [
    {
     "data": {
      "text/plain": "<Figure size 432x288 with 1 Axes>",
      "image/png": "[encoded data removed]"
     },
     "metadata": {
      "needs_background": "light"
     },
     "output_type": "display_data"
    }
   ],
   "source": [
    "plt.scatter(education[:,0].tolist(), education[:,1].tolist(), label='Education')\n",
    "plt.scatter(service[:,0].tolist(), service[:,1].tolist(), label='Service')\n",
    "plt.scatter(sale[:,0].tolist(), sale[:,1].tolist(), label='Sale')\n",
    "plt.legend()\n",
    "plt.savefig('聚类效果.png')"
   ],
   "metadata": {
    "collapsed": false,
    "pycharm": {
     "name": "#%%\n"
    }
   }
  },
  {
   "cell_type": "code",
   "execution_count": null,
   "outputs": [],
   "source": [],
   "metadata": {
    "collapsed": false,
    "pycharm": {
     "name": "#%%\n"
    }
   }
  }
 ],
 "metadata": {
  "kernelspec": {
   "display_name": "Python 3",
   "language": "python",
   "name": "python3"
  },
  "language_info": {
   "codemirror_mode": {
    "name": "ipython",
    "version": 3
   },
   "file_extension": ".py",
   "mimetype": "text/x-python",
   "name": "python",
   "nbconvert_exporter": "python",
   "pygments_lexer": "ipython3",
   "version": "3.8.5"
  }
 },
 "nbformat": 4,
 "nbformat_minor": 1
}