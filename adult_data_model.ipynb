{
 "cells": [
  {
   "cell_type": "code",
   "execution_count": 3,
   "metadata": {
    "collapsed": true
   },
   "outputs": [],
   "source": [
    "import sklearn.preprocessing\n",
    "import sklearn.ensemble\n",
    "import pandas as pd\n",
    "import numpy as np"
   ]
  },
  {
   "cell_type": "code",
   "execution_count": 4,
   "outputs": [],
   "source": [
    "df = pd.read_csv('data/成人收入数据集-筛选后.csv', index_col=0)"
   ],
   "metadata": {
    "collapsed": false,
    "pycharm": {
     "name": "#%%\n"
    }
   }
  },
  {
   "cell_type": "code",
   "execution_count": 5,
   "outputs": [],
   "source": [
    "gender_encoder = sklearn.preprocessing.LabelEncoder().fit(df['性别'])\n",
    "education_encoder = sklearn.preprocessing.OneHotEncoder().fit(np.array(df['学历']).reshape(-1, 1))\n",
    "work_encoder = sklearn.preprocessing.LabelEncoder().fit(df['职业'])"
   ],
   "metadata": {
    "collapsed": false,
    "pycharm": {
     "name": "#%%\n"
    }
   }
  },
  {
   "cell_type": "code",
   "execution_count": 6,
   "outputs": [
    {
     "data": {
      "text/plain": "1"
     },
     "execution_count": 6,
     "metadata": {},
     "output_type": "execute_result"
    }
   ],
   "source": [
    "def process_gender(gender_array):\n",
    "    return gender_encoder.transform(gender_array)\n",
    "\n",
    "def process_gender_once(gender):\n",
    "    return gender_encoder.transform(np.array([gender]))[0]\n",
    "\n",
    "process_gender_once('男')"
   ],
   "metadata": {
    "collapsed": false,
    "pycharm": {
     "name": "#%%\n"
    }
   }
  },
  {
   "cell_type": "code",
   "execution_count": 7,
   "outputs": [
    {
     "data": {
      "text/plain": "array([0., 0., 1., 0., 0.])"
     },
     "execution_count": 7,
     "metadata": {},
     "output_type": "execute_result"
    }
   ],
   "source": [
    "def process_education(education_array):\n",
    "    return education_encoder.transform(np.array(education_array).reshape(-1, 1)).toarray()\n",
    "\n",
    "def process_education_once(education):\n",
    "    return education_encoder.transform(np.array([education]).reshape(-1, 1)).toarray()[0]\n",
    "\n",
    "process_education_once('本科')"
   ],
   "metadata": {
    "collapsed": false,
    "pycharm": {
     "name": "#%%\n"
    }
   }
  },
  {
   "cell_type": "code",
   "execution_count": 8,
   "outputs": [
    {
     "data": {
      "text/plain": "array([0, 0, 1, ..., 0, 0, 0])"
     },
     "execution_count": 8,
     "metadata": {},
     "output_type": "execute_result"
    }
   ],
   "source": [
    "def process_work(work_array):\n",
    "    return work_encoder.transform(work_array)\n",
    "\n",
    "process_work(df['职业'])"
   ],
   "metadata": {
    "collapsed": false,
    "pycharm": {
     "name": "#%%\n"
    }
   }
  },
  {
   "cell_type": "code",
   "execution_count": 9,
   "outputs": [
    {
     "data": {
      "text/plain": "array([[156.92,  45.58,   1.  , ...,   0.  ,  13.  ,  40.  ],\n       [151.45,  65.1 ,   1.  , ...,   0.  ,  13.  ,  13.  ],\n       [166.05,  52.68,   1.  , ...,   1.  ,   9.  ,  40.  ],\n       ...,\n       [150.46,  42.72,   0.  , ...,   1.  ,   9.  ,  40.  ],\n       [156.35,  74.07,   1.  , ...,   1.  ,   9.  ,  20.  ],\n       [159.44,  77.18,   0.  , ...,   1.  ,   9.  ,  40.  ]])"
     },
     "execution_count": 9,
     "metadata": {},
     "output_type": "execute_result"
    }
   ],
   "source": [
    "def pre_process(height, weight, gender, age,\n",
    "                education, education_time, working_hours):\n",
    "    return np.concatenate((np.array(height).reshape(-1,1),\n",
    "                           np.array(weight).reshape(-1,1),\n",
    "                           process_gender(gender).reshape(-1,1),\n",
    "                           np.array(age).reshape(-1,1),\n",
    "                           process_education(education),\n",
    "                           np.array(education_time).reshape(-1,1),\n",
    "                           np.array(working_hours).reshape(-1,1)), axis=1)\n",
    "\n",
    "pre_process(df['身高'],df['体重'],df['性别'],df['年龄'],\n",
    "            df['学历'],df['受教育时间(年)'],df['每周工作时长'])"
   ],
   "metadata": {
    "collapsed": false,
    "pycharm": {
     "name": "#%%\n"
    }
   }
  },
  {
   "cell_type": "code",
   "execution_count": 10,
   "outputs": [
    {
     "data": {
      "text/plain": "array([172.,  65.,   1.,  19.,   0.,   0.,   1.,   0.,   0.,  12.,  40.])"
     },
     "execution_count": 10,
     "metadata": {},
     "output_type": "execute_result"
    }
   ],
   "source": [
    "def pre_process_once(height, weight, gender, age,\n",
    "                     education, education_time, working_hours):\n",
    "    return np.array([height, weight, process_gender_once(gender), age]\\\n",
    "           + process_education_once(education).tolist()\\\n",
    "           + [education_time, working_hours])\n",
    "\n",
    "pre_process_once(172,65,'男',19,'本科',12,40)"
   ],
   "metadata": {
    "collapsed": false,
    "pycharm": {
     "name": "#%%\n"
    }
   }
  },
  {
   "cell_type": "code",
   "execution_count": 11,
   "outputs": [],
   "source": [
    "class Model:\n",
    "    def __init__(self):\n",
    "        self.data = pre_process(df['身高'],df['体重'],df['性别'],df['年龄'],\n",
    "            df['学历'],df['受教育时间(年)'],df['每周工作时长'])\n",
    "        self.target = process_work(df['职业'])\n",
    "        self.train_x, self.test_x, self.train_y, self.test_y = sklearn.model_selection.train_test_split(self.data, self.target)\n",
    "        self.classifier = sklearn.ensemble.RandomForestClassifier(n_estimators=17,\n",
    "                                                                  max_depth=6)\n",
    "\n",
    "    def fit(self):\n",
    "        self.classifier.fit(self.train_x, self.train_y)\n",
    "\n",
    "    def predict(self, height, weight, gender, age, education, education_time, working_hours):\n",
    "        return self.classifier.predict([pre_process_once(height, weight, gender, age, education, education_time, working_hours)])"
   ],
   "metadata": {
    "collapsed": false,
    "pycharm": {
     "name": "#%%\n"
    }
   }
  },
  {
   "cell_type": "code",
   "execution_count": 12,
   "outputs": [
    {
     "data": {
      "text/plain": "RandomForestClassifier(max_depth=6, n_estimators=17)"
     },
     "execution_count": 12,
     "metadata": {},
     "output_type": "execute_result"
    }
   ],
   "source": [
    "model = Model()\n",
    "model.classifier.fit(model.train_x, model.train_y)"
   ],
   "metadata": {
    "collapsed": false,
    "pycharm": {
     "name": "#%%\n"
    }
   }
  },
  {
   "cell_type": "code",
   "execution_count": 17,
   "outputs": [
    {
     "data": {
      "text/plain": "array([6323, 1808,   10], dtype=int64)"
     },
     "execution_count": 17,
     "metadata": {},
     "output_type": "execute_result"
    }
   ],
   "source": [
    "np.bincount(model.classifier.predict(model.test_x))"
   ],
   "metadata": {
    "collapsed": false,
    "pycharm": {
     "name": "#%%\n"
    }
   }
  },
  {
   "cell_type": "code",
   "execution_count": 25,
   "outputs": [
    {
     "data": {
      "text/plain": "0.5811629811629812"
     },
     "execution_count": 25,
     "metadata": {},
     "output_type": "execute_result"
    }
   ],
   "source": [
    "model.classifier.score(model.train_x, model.train_y)"
   ],
   "metadata": {
    "collapsed": false,
    "pycharm": {
     "name": "#%%\n"
    }
   }
  },
  {
   "cell_type": "code",
   "execution_count": 26,
   "outputs": [
    {
     "data": {
      "text/plain": "0.5756049625353151"
     },
     "execution_count": 26,
     "metadata": {},
     "output_type": "execute_result"
    }
   ],
   "source": [
    "model.classifier.score(model.test_x, model.test_y)"
   ],
   "metadata": {
    "collapsed": false,
    "pycharm": {
     "name": "#%%\n"
    }
   }
  },
  {
   "cell_type": "code",
   "execution_count": 31,
   "outputs": [
    {
     "data": {
      "text/plain": "0.5709372312983663"
     },
     "execution_count": 31,
     "metadata": {},
     "output_type": "execute_result"
    }
   ],
   "source": [
    "import sklearn.naive_bayes\n",
    "model.classifier.fit(model.train_x, model.train_y)\n",
    "model.classifier.score(model.test_x, model.test_y)\n"
   ],
   "metadata": {
    "collapsed": false,
    "pycharm": {
     "name": "#%%\n"
    }
   }
  }
 ],
 "metadata": {
  "kernelspec": {
   "display_name": "Python 3",
   "language": "python",
   "name": "python3"
  },
  "language_info": {
   "codemirror_mode": {
    "name": "ipython",
    "version": 2
   },
   "file_extension": ".py",
   "mimetype": "text/x-python",
   "name": "python",
   "nbconvert_exporter": "python",
   "pygments_lexer": "ipython2",
   "version": "2.7.6"
  }
 },
 "nbformat": 4,
 "nbformat_minor": 0
}