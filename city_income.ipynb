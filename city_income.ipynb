{
 "cells": [
  {
   "cell_type": "code",
   "execution_count": 21,
   "metadata": {
    "collapsed": true
   },
   "outputs": [],
   "source": [
    "import pandas as pd\n",
    "import re"
   ]
  },
  {
   "cell_type": "code",
   "execution_count": 31,
   "outputs": [
    {
     "data": {
      "text/plain": "Empty DataFrame\nColumns: [城市, 收入]\nIndex: []",
      "text/html": "<div>\n<style scoped>\n    .dataframe tbody tr th:only-of-type {\n        vertical-align: middle;\n    }\n\n    .dataframe tbody tr th {\n        vertical-align: top;\n    }\n\n    .dataframe thead th {\n        text-align: right;\n    }\n</style>\n<table border=\"1\" class=\"dataframe\">\n  <thead>\n    <tr style=\"text-align: right;\">\n      <th></th>\n      <th>城市</th>\n      <th>收入</th>\n    </tr>\n  </thead>\n  <tbody>\n  </tbody>\n</table>\n</div>"
     },
     "execution_count": 31,
     "metadata": {},
     "output_type": "execute_result"
    }
   ],
   "source": [
    "df = pd.DataFrame(columns=['城市', '收入'])\n",
    "df"
   ],
   "metadata": {
    "collapsed": false,
    "pycharm": {
     "name": "#%%\n"
    }
   }
  },
  {
   "cell_type": "code",
   "execution_count": 32,
   "outputs": [
    {
     "name": "stdout",
     "output_type": "stream",
     "text": [
      "上海 64183\n",
      "北京 62361\n",
      "深圳 57543\n",
      "苏州 55476\n",
      "广州 55029\n",
      "杭州 54348\n",
      "南京 52916\n",
      "宁波 52402\n",
      "厦门 50948\n",
      "无锡 50373\n",
      "佛山 49630\n",
      "绍兴 49389\n",
      "东莞 49331\n",
      "舟山 49217\n",
      "珠海 48107\n",
      "嘉兴 47380\n",
      "温州 46920\n",
      "中山 46865\n",
      "常州 45933\n",
      "长沙 44647\n",
      "湖州 44487\n",
      "金华 44326\n",
      "台州 43973\n",
      "武汉 42133\n",
      "青岛 42019\n",
      "克拉玛依 41850\n",
      "包头 41755\n",
      "乌海 41551\n",
      "镇江 40883\n",
      "济南 39944\n",
      "天津 39506\n",
      "鄂尔多斯 38521\n",
      "沈阳 48494\n",
      "嘉峪关 38081\n",
      "大连 37960\n",
      "东营 37586\n",
      "乌鲁木齐 37294\n",
      "南通 37071\n",
      "威海 36626\n",
      "马鞍山 36482\n",
      "成都 36142\n",
      "泉州 36088\n",
      "阿拉善 35854\n",
      "呼和浩特 35683\n",
      "福州 35376\n",
      "合肥 35175\n",
      "昆明 35032\n",
      "烟台 34901\n",
      "淄博 34730\n",
      "泰州 34642\n",
      "南昌 34191\n",
      "扬州 34076\n",
      "株洲 33953\n",
      "惠州 33930\n",
      "郑州 33105\n",
      "盘锦 32978\n",
      "衢州 32269\n",
      "丽水 32245\n",
      "大庆 31943\n",
      "芜湖 31445\n",
      "西安 31407\n",
      "新余 31302\n",
      "海口 31205\n",
      "攀枝花 31044\n",
      "太原 31031\n",
      "三亚 30487\n",
      "银川 30452\n",
      "兰州 30403\n",
      "贵阳 30310\n",
      "唐山 30309\n",
      "鞍山 30259\n",
      "哈尔滨 30206\n",
      "金昌 30095\n",
      "锡林郭勒 30082\n",
      "潍坊 30049\n",
      "湘潭 29872\n",
      "廊坊 29781\n",
      "营口 29731\n",
      "江门 29547\n",
      "盐城 29488\n",
      "萍乡 29417\n",
      "景德镇 29369\n",
      "莱芜 29254\n",
      "本溪 29107\n",
      "呼伦贝尔 28428\n",
      "哈密 28346\n",
      "抚顺 28085\n",
      "莆田 27954\n",
      "海西 27772\n",
      "淮安 27696\n",
      "泰安 27389\n",
      "徐州 27385\n",
      "酒泉 27269\n",
      "长春 27204\n",
      "黄石 27092\n",
      "柳州 27041\n",
      "漳州 26998\n",
      "石家庄 26839\n",
      "南宁 26798\n",
      "昌吉 26708\n",
      "牡丹江 26671\n",
      "巴音郭楞 26632\n",
      "重庆 26386\n",
      "滨州 26371\n",
      "龙岩 26247\n",
      "鄂州 26202\n",
      "三明 26200\n",
      "宜昌 26193\n",
      "宣城 26112\n",
      "石嘴山 26105\n",
      "荆门 26073\n",
      "襄阳 26028\n",
      "鹰潭 25965\n",
      "西宁 25926\n",
      "济宁 25902\n",
      "衡阳 25901\n",
      "连云港 25864\n",
      "防城港 25781\n",
      "玉溪 25767\n",
      "临沂 25545\n",
      "辽阳 25516\n",
      "北海 25485\n",
      "铜陵 25443\n",
      "日照 25377\n",
      "德阳 25330\n",
      "绵阳 25216\n",
      "阳泉 25134\n",
      "南平 25012\n",
      "伊春 24998\n",
      "焦作 24890\n",
      "洛阳 24882\n",
      "岳阳 24812\n",
      "锦州 24796\n",
      "丹东 24762\n",
      "巴彦淖尔 24742\n",
      "淮南 24715\n",
      "九江 24670\n",
      "蚌埠 24634\n",
      "宁德 24631\n",
      "秦皇岛 24555\n",
      "汕头 24428\n",
      "枣庄 24334\n",
      "桂林 24289\n",
      "乐山 24278\n",
      "眉山 24190\n",
      "荆州 24174\n",
      "淮北 24143\n",
      "鹤壁 24093\n",
      "肇庆 24071\n",
      "孝感 24070\n"
     ]
    }
   ],
   "source": [
    "with open('城市收入.txt','r',encoding='utf-8',errors='ignore') as f:\n",
    "    s = f.readlines()\n",
    "    for line in s:\n",
    "        re_list = re.findall('(?<=\\.)\\w+', line.strip())\n",
    "        for each in re_list:\n",
    "            print(each[:-5], each[-5:])\n",
    "            df = df.append({'城市': each[:-5], '收入': each[-5:]}, ignore_index=True)"
   ],
   "metadata": {
    "collapsed": false,
    "pycharm": {
     "name": "#%%\n"
    }
   }
  },
  {
   "cell_type": "code",
   "execution_count": 33,
   "outputs": [
    {
     "data": {
      "text/plain": "     城市     收入\n0    上海  64183\n1    北京  62361\n2    深圳  57543\n3    苏州  55476\n4    广州  55029\n..   ..    ...\n145  荆州  24174\n146  淮北  24143\n147  鹤壁  24093\n148  肇庆  24071\n149  孝感  24070\n\n[150 rows x 2 columns]",
      "text/html": "<div>\n<style scoped>\n    .dataframe tbody tr th:only-of-type {\n        vertical-align: middle;\n    }\n\n    .dataframe tbody tr th {\n        vertical-align: top;\n    }\n\n    .dataframe thead th {\n        text-align: right;\n    }\n</style>\n<table border=\"1\" class=\"dataframe\">\n  <thead>\n    <tr style=\"text-align: right;\">\n      <th></th>\n      <th>城市</th>\n      <th>收入</th>\n    </tr>\n  </thead>\n  <tbody>\n    <tr>\n      <th>0</th>\n      <td>上海</td>\n      <td>64183</td>\n    </tr>\n    <tr>\n      <th>1</th>\n      <td>北京</td>\n      <td>62361</td>\n    </tr>\n    <tr>\n      <th>2</th>\n      <td>深圳</td>\n      <td>57543</td>\n    </tr>\n    <tr>\n      <th>3</th>\n      <td>苏州</td>\n      <td>55476</td>\n    </tr>\n    <tr>\n      <th>4</th>\n      <td>广州</td>\n      <td>55029</td>\n    </tr>\n    <tr>\n      <th>...</th>\n      <td>...</td>\n      <td>...</td>\n    </tr>\n    <tr>\n      <th>145</th>\n      <td>荆州</td>\n      <td>24174</td>\n    </tr>\n    <tr>\n      <th>146</th>\n      <td>淮北</td>\n      <td>24143</td>\n    </tr>\n    <tr>\n      <th>147</th>\n      <td>鹤壁</td>\n      <td>24093</td>\n    </tr>\n    <tr>\n      <th>148</th>\n      <td>肇庆</td>\n      <td>24071</td>\n    </tr>\n    <tr>\n      <th>149</th>\n      <td>孝感</td>\n      <td>24070</td>\n    </tr>\n  </tbody>\n</table>\n<p>150 rows × 2 columns</p>\n</div>"
     },
     "execution_count": 33,
     "metadata": {},
     "output_type": "execute_result"
    }
   ],
   "source": [
    "df"
   ],
   "metadata": {
    "collapsed": false,
    "pycharm": {
     "name": "#%%\n"
    }
   }
  },
  {
   "cell_type": "code",
   "execution_count": 34,
   "outputs": [],
   "source": [
    "df.to_csv('城市收入.csv')"
   ],
   "metadata": {
    "collapsed": false,
    "pycharm": {
     "name": "#%%\n"
    }
   }
  }
 ],
 "metadata": {
  "kernelspec": {
   "display_name": "Python 3",
   "language": "python",
   "name": "python3"
  },
  "language_info": {
   "codemirror_mode": {
    "name": "ipython",
    "version": 2
   },
   "file_extension": ".py",
   "mimetype": "text/x-python",
   "name": "python",
   "nbconvert_exporter": "python",
   "pygments_lexer": "ipython2",
   "version": "2.7.6"
  }
 },
 "nbformat": 4,
 "nbformat_minor": 0
}