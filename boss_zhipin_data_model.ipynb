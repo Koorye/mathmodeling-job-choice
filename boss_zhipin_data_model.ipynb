{
 "cells": [
  {
   "cell_type": "code",
   "execution_count": 1,
   "outputs": [],
   "source": [
    "import sklearn.preprocessing\n",
    "import sklearn.ensemble\n",
    "import pandas as pd\n",
    "import numpy as np"
   ],
   "metadata": {
    "collapsed": false,
    "pycharm": {
     "name": "#%%\n"
    }
   }
  },
  {
   "cell_type": "code",
   "execution_count": 2,
   "outputs": [
    {
     "data": {
      "text/plain": "     城市平均收入   月薪 学历限制   职业\n0     34191  3.0   不限  服务类\n3     26798  5.5   本科  服务类\n7     62361  8.5   不限  服务类\n13    57543  7.5   不限  服务类\n15    64183  6.5   本科  服务类\n..      ...  ...  ...  ...\n264   62361  4.0   不限  教育类\n265   48107  5.0   不限  教育类\n266   39506  5.0   专科  教育类\n267   26839  9.0   本科  教育类\n268   35376  6.0   专科  教育类\n\n[217 rows x 4 columns]",
      "text/html": "<div>\n<style scoped>\n    .dataframe tbody tr th:only-of-type {\n        vertical-align: middle;\n    }\n\n    .dataframe tbody tr th {\n        vertical-align: top;\n    }\n\n    .dataframe thead th {\n        text-align: right;\n    }\n</style>\n<table border=\"1\" class=\"dataframe\">\n  <thead>\n    <tr style=\"text-align: right;\">\n      <th></th>\n      <th>城市平均收入</th>\n      <th>月薪</th>\n      <th>学历限制</th>\n      <th>职业</th>\n    </tr>\n  </thead>\n  <tbody>\n    <tr>\n      <th>0</th>\n      <td>34191</td>\n      <td>3.0</td>\n      <td>不限</td>\n      <td>服务类</td>\n    </tr>\n    <tr>\n      <th>3</th>\n      <td>26798</td>\n      <td>5.5</td>\n      <td>本科</td>\n      <td>服务类</td>\n    </tr>\n    <tr>\n      <th>7</th>\n      <td>62361</td>\n      <td>8.5</td>\n      <td>不限</td>\n      <td>服务类</td>\n    </tr>\n    <tr>\n      <th>13</th>\n      <td>57543</td>\n      <td>7.5</td>\n      <td>不限</td>\n      <td>服务类</td>\n    </tr>\n    <tr>\n      <th>15</th>\n      <td>64183</td>\n      <td>6.5</td>\n      <td>本科</td>\n      <td>服务类</td>\n    </tr>\n    <tr>\n      <th>...</th>\n      <td>...</td>\n      <td>...</td>\n      <td>...</td>\n      <td>...</td>\n    </tr>\n    <tr>\n      <th>264</th>\n      <td>62361</td>\n      <td>4.0</td>\n      <td>不限</td>\n      <td>教育类</td>\n    </tr>\n    <tr>\n      <th>265</th>\n      <td>48107</td>\n      <td>5.0</td>\n      <td>不限</td>\n      <td>教育类</td>\n    </tr>\n    <tr>\n      <th>266</th>\n      <td>39506</td>\n      <td>5.0</td>\n      <td>专科</td>\n      <td>教育类</td>\n    </tr>\n    <tr>\n      <th>267</th>\n      <td>26839</td>\n      <td>9.0</td>\n      <td>本科</td>\n      <td>教育类</td>\n    </tr>\n    <tr>\n      <th>268</th>\n      <td>35376</td>\n      <td>6.0</td>\n      <td>专科</td>\n      <td>教育类</td>\n    </tr>\n  </tbody>\n</table>\n<p>217 rows × 4 columns</p>\n</div>"
     },
     "execution_count": 2,
     "metadata": {},
     "output_type": "execute_result"
    }
   ],
   "source": [
    "df = pd.read_csv('data/Boss 直聘数据集-筛选后.csv', index_col=0)\n",
    "df"
   ],
   "metadata": {
    "collapsed": false,
    "pycharm": {
     "name": "#%%\n"
    }
   }
  },
  {
   "cell_type": "code",
   "execution_count": 3,
   "outputs": [],
   "source": [
    "education_encoder = sklearn.preprocessing.OneHotEncoder().fit(np.array(df['学历限制']).reshape(-1, 1))\n",
    "work_encoder = sklearn.preprocessing.LabelEncoder().fit(df['职业'])"
   ],
   "metadata": {
    "collapsed": false,
    "pycharm": {
     "name": "#%%\n"
    }
   }
  },
  {
   "cell_type": "code",
   "execution_count": 4,
   "outputs": [
    {
     "data": {
      "text/plain": "array([0., 0., 1.])"
     },
     "execution_count": 4,
     "metadata": {},
     "output_type": "execute_result"
    }
   ],
   "source": [
    "def process_education(education_array):\n",
    "    return education_encoder.transform(np.array(education_array).reshape(-1, 1)).toarray()\n",
    "\n",
    "def process_education_once(education):\n",
    "    return education_encoder.transform(np.array([education]).reshape(-1, 1)).toarray()[0]\n",
    "\n",
    "process_education_once('本科')"
   ],
   "metadata": {
    "collapsed": false,
    "pycharm": {
     "name": "#%%\n"
    }
   }
  },
  {
   "cell_type": "code",
   "execution_count": 5,
   "outputs": [
    {
     "data": {
      "text/plain": "array([[3.4191e+04, 3.0000e+00, 1.0000e+00, 0.0000e+00, 0.0000e+00],\n       [2.6798e+04, 5.5000e+00, 0.0000e+00, 0.0000e+00, 1.0000e+00],\n       [6.2361e+04, 8.5000e+00, 1.0000e+00, 0.0000e+00, 0.0000e+00],\n       ...,\n       [3.9506e+04, 5.0000e+00, 0.0000e+00, 1.0000e+00, 0.0000e+00],\n       [2.6839e+04, 9.0000e+00, 0.0000e+00, 0.0000e+00, 1.0000e+00],\n       [3.5376e+04, 6.0000e+00, 0.0000e+00, 1.0000e+00, 0.0000e+00]])"
     },
     "execution_count": 5,
     "metadata": {},
     "output_type": "execute_result"
    }
   ],
   "source": [
    "def pre_process(city_income, salary, education):\n",
    "    return np.concatenate((np.array(city_income).reshape(-1,1),\n",
    "                           np.array(salary).reshape(-1,1),\n",
    "                           process_education(education)), axis=1)\n",
    "\n",
    "pre_process(df['城市平均收入'],df['月薪'],df['学历限制'])"
   ],
   "metadata": {
    "collapsed": false,
    "pycharm": {
     "name": "#%%\n"
    }
   }
  },
  {
   "cell_type": "code",
   "execution_count": 6,
   "outputs": [
    {
     "data": {
      "text/plain": "[40000, 5, 0.0, 0.0, 1.0]"
     },
     "execution_count": 6,
     "metadata": {},
     "output_type": "execute_result"
    }
   ],
   "source": [
    "def pre_process_once(city_income, salary, education):\n",
    "    return [city_income, salary] + process_education_once(education).tolist()\n",
    "\n",
    "pre_process_once(40000, 5, '本科')"
   ],
   "metadata": {
    "collapsed": false,
    "pycharm": {
     "name": "#%%\n"
    }
   }
  },
  {
   "cell_type": "code",
   "execution_count": 7,
   "outputs": [
    {
     "data": {
      "text/plain": "array([1, 1, 1, 1, 1, 1, 1, 1, 1, 1, 1, 1, 1, 1, 1, 1, 1, 1, 1, 1, 1, 1,\n       1, 1, 1, 1, 1, 1, 1, 1, 1, 1, 1, 1, 0, 0, 0, 0, 0, 0, 0, 0, 0, 0,\n       0, 0, 0, 0, 0, 0, 0, 0, 0, 0, 0, 0, 0, 0, 0, 0, 0, 0, 0, 0, 0, 0,\n       0, 0, 0, 0, 0, 0, 0, 0, 0, 0, 0, 0, 0, 0, 0, 0, 0, 0, 0, 0, 0, 0,\n       0, 0, 0, 0, 1, 1, 1, 1, 1, 1, 1, 1, 1, 1, 1, 1, 1, 1, 1, 1, 1, 1,\n       1, 1, 1, 1, 1, 1, 1, 1, 1, 1, 1, 1, 1, 1, 1, 1, 1, 1, 1, 1, 1, 1,\n       1, 1, 1, 1, 1, 1, 1, 1, 1, 1, 1, 1, 1, 1, 1, 1, 1, 1, 2, 2, 2, 2,\n       2, 2, 2, 2, 2, 2, 2, 2, 2, 2, 2, 2, 2, 2, 2, 2, 2, 2, 2, 2, 2, 2,\n       2, 2, 2, 2, 2, 2, 2, 2, 2, 2, 2, 2, 2, 2, 2, 0, 0, 0, 0, 0, 0, 0,\n       0, 0, 0, 0, 0, 0, 0, 0, 0, 0, 0, 0, 0, 0, 0, 0, 0, 0, 0])"
     },
     "execution_count": 7,
     "metadata": {},
     "output_type": "execute_result"
    }
   ],
   "source": [
    "def process_work(work_array):\n",
    "    return work_encoder.transform(work_array)\n",
    "\n",
    "process_work(df['职业'])"
   ],
   "metadata": {
    "collapsed": false,
    "pycharm": {
     "name": "#%%\n"
    }
   }
  },
  {
   "cell_type": "code",
   "execution_count": 14,
   "outputs": [],
   "source": [
    "class Model:\n",
    "    def __init__(self):\n",
    "        self.data = pre_process(df['城市平均收入'],df['月薪'],df['学历限制'])\n",
    "        self.target = process_work(df['职业'])\n",
    "        self.train_x, self.test_x, self.train_y, self.test_y = sklearn.model_selection.train_test_split(self.data, self.target)\n",
    "        self.classifier = sklearn.ensemble.RandomForestClassifier(n_estimators=236,\n",
    "                                                                  max_depth=24,\n",
    "                                                                  min_samples_leaf=8)\n",
    "\n",
    "    def fit(self):\n",
    "        self.classifier.fit(self.train_x, self.train_y)\n",
    "\n",
    "    def predict(self, city_income, salary, education):\n",
    "        return self.classifier.predict([pre_process_once(city_income, salary, education)])"
   ],
   "metadata": {
    "collapsed": false,
    "pycharm": {
     "name": "#%%\n"
    }
   }
  },
  {
   "cell_type": "code",
   "execution_count": 15,
   "outputs": [
    {
     "data": {
      "text/plain": "RandomForestClassifier(max_depth=24, min_samples_leaf=8, n_estimators=236)"
     },
     "execution_count": 15,
     "metadata": {},
     "output_type": "execute_result"
    }
   ],
   "source": [
    "model = Model()\n",
    "model.classifier.fit(model.train_x, model.train_y)"
   ],
   "metadata": {
    "collapsed": false,
    "pycharm": {
     "name": "#%%\n"
    }
   }
  },
  {
   "cell_type": "code",
   "execution_count": 16,
   "outputs": [
    {
     "data": {
      "text/plain": "0.6851851851851852"
     },
     "execution_count": 16,
     "metadata": {},
     "output_type": "execute_result"
    }
   ],
   "source": [
    "model.classifier.score(model.train_x, model.train_y)"
   ],
   "metadata": {
    "collapsed": false,
    "pycharm": {
     "name": "#%%\n"
    }
   }
  },
  {
   "cell_type": "code",
   "execution_count": 17,
   "outputs": [
    {
     "data": {
      "text/plain": "0.6909090909090909"
     },
     "execution_count": 17,
     "metadata": {},
     "output_type": "execute_result"
    }
   ],
   "source": [
    "model.classifier.score(model.test_x, model.test_y)"
   ],
   "metadata": {
    "collapsed": false,
    "pycharm": {
     "name": "#%%\n"
    }
   }
  },
  {
   "cell_type": "code",
   "execution_count": 15,
   "outputs": [
    {
     "data": {
      "text/plain": "array([52, 96, 14], dtype=int64)"
     },
     "execution_count": 15,
     "metadata": {},
     "output_type": "execute_result"
    }
   ],
   "source": [
    "np.bincount(model.classifier.predict(model.train_x))"
   ],
   "metadata": {
    "collapsed": false,
    "pycharm": {
     "name": "#%%\n"
    }
   }
  },
  {
   "cell_type": "code",
   "execution_count": 37,
   "outputs": [],
   "source": [
    "array = sklearn.decomposition.PCA(n_components=2).fit_transform(model.test_x)\n",
    "matrix = np.mat(array)\n",
    "label = model.classifier.predict(model.test_x)"
   ],
   "metadata": {
    "collapsed": false,
    "pycharm": {
     "name": "#%%\n"
    }
   }
  },
  {
   "cell_type": "code",
   "execution_count": 59,
   "outputs": [
    {
     "data": {
      "text/plain": "{2: [], 0: [], 1: []}"
     },
     "execution_count": 59,
     "metadata": {},
     "output_type": "execute_result"
    }
   ],
   "source": [
    "dict = {}\n",
    "for each in label:\n",
    "    dict[each] = []\n",
    "dict"
   ],
   "metadata": {
    "collapsed": false,
    "pycharm": {
     "name": "#%%\n"
    }
   }
  },
  {
   "cell_type": "code",
   "execution_count": 63,
   "outputs": [],
   "source": [
    "for index, each in enumerate(label):\n",
    "    dict[each].append((np.array(matrix[:,0]).flatten()[index],\n",
    "                       np.array(matrix[:,1]).flatten()[index]))"
   ],
   "metadata": {
    "collapsed": false,
    "pycharm": {
     "name": "#%%\n"
    }
   }
  },
  {
   "cell_type": "code",
   "execution_count": 71,
   "outputs": [
    {
     "data": {
      "text/plain": "array([20, 29,  6], dtype=int64)"
     },
     "execution_count": 71,
     "metadata": {},
     "output_type": "execute_result"
    }
   ],
   "source": [
    "np.bincount(model.classifier.predict(model.test_x))"
   ],
   "metadata": {
    "collapsed": false,
    "pycharm": {
     "name": "#%%\n"
    }
   }
  },
  {
   "cell_type": "code",
   "execution_count": 64,
   "outputs": [
    {
     "data": {
      "text/plain": "[(-9455.290622268334, 2.5282486370204986),\n (-5687.291603620586, -3.605100903513873),\n (-7757.291489692136, -2.7565922726168535),\n (-5687.290507550805, 2.8934302700426153),\n (-4720.290858637866, 0.7310237122118826),\n (-15317.291128592406, 0.016295544561064232),\n (-14023.290641227244, 2.797687009637394),\n (12053.708277460697, -5.793154202391145),\n (16680.714568467163, 31.11906466008781),\n (-5179.291610888517, -3.690656353617075),\n (-4720.290521385627, 2.7305717656138784),\n (-6671.288469959322, 15.056440170969461),\n (14166.708112329214, -6.948836939633971),\n (1270.7083052629562, -4.726952402608138),\n (-9831.29078551504, 1.5917991166951013),\n (-9455.289694824673, 8.027005783875989),\n (-9455.290790894453, 1.5284746103195015),\n (21498.708007430647, -8.183664813958165),\n (21498.71239170977, 17.810459880267782),\n (-9455.290875207513, 1.0285875969690024)]"
     },
     "execution_count": 64,
     "metadata": {},
     "output_type": "execute_result"
    }
   ],
   "source": [
    "dict[0]"
   ],
   "metadata": {
    "collapsed": false,
    "pycharm": {
     "name": "#%%\n"
    }
   }
  },
  {
   "cell_type": "code",
   "execution_count": 69,
   "outputs": [
    {
     "data": {
      "text/plain": "<Figure size 432x288 with 1 Axes>",
      "image/png": "[encoded data removed]"
     },
     "metadata": {
      "needs_background": "light"
     },
     "output_type": "display_data"
    }
   ],
   "source": [
    "import matplotlib.pyplot as plt\n",
    "\n",
    "label_list = ['Service','Education','Sale']\n",
    "for each in dict:\n",
    "    x_list = np.array(np.mat(dict[each])[:,0]).flatten()\n",
    "    y_list = np.array(np.mat(dict[each])[:,1]).flatten()\n",
    "    plt.scatter(x_list,y_list,label=label_list[each])\n",
    "plt.legend()\n",
    "plt.savefig('测试集结果分布.png')\n"
   ],
   "metadata": {
    "collapsed": false,
    "pycharm": {
     "name": "#%%\n"
    }
   }
  },
  {
   "cell_type": "code",
   "execution_count": null,
   "outputs": [],
   "source": [
    "\n"
   ],
   "metadata": {
    "collapsed": false,
    "pycharm": {
     "name": "#%%\n"
    }
   }
  }
 ],
 "metadata": {
  "kernelspec": {
   "display_name": "Python 3",
   "language": "python",
   "name": "python3"
  },
  "language_info": {
   "codemirror_mode": {
    "name": "ipython",
    "version": 2
   },
   "file_extension": ".py",
   "mimetype": "text/x-python",
   "name": "python",
   "nbconvert_exporter": "python",
   "pygments_lexer": "ipython2",
   "version": "2.7.6"
  }
 },
 "nbformat": 4,
 "nbformat_minor": 0
}