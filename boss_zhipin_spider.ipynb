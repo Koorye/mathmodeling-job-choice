{
 "cells": [
  {
   "cell_type": "code",
   "execution_count": 1,
   "metadata": {
    "pycharm": {
     "is_executing": true,
     "name": "#%%\n"
    }
   },
   "outputs": [],
   "source": [
    "import selenium.webdriver\n",
    "import requests\n",
    "import pandas as pd\n",
    "import time\n",
    "import json"
   ]
  },
  {
   "cell_type": "code",
   "execution_count": 6,
   "metadata": {
    "pycharm": {
     "name": "#%%\n"
    }
   },
   "outputs": [],
   "source": [
    "def get_random_proxy():\n",
    "    html = requests.get('http://118.24.52.95/get/')\n",
    "    return json.loads(html.text)['proxy']"
   ]
  },
  {
   "cell_type": "code",
   "execution_count": 2,
   "metadata": {
    "pycharm": {
     "name": "#%%\n"
    }
   },
   "outputs": [],
   "source": [
    "class Spider:\n",
    "    def __init__(self):\n",
    "        opt = selenium.webdriver.ChromeOptions()\n",
    "        # opt.add_argument(\"-proxy-server=http://222.223.182.66:8000\")# 一定要注意，等号两边不能有空格\n",
    "        self.driver = selenium.webdriver.Chrome('C:/environment/chromedriver.exe',\n",
    "                                                chrome_options=opt)\n",
    "        self.url = 'https://www.zhipin.com/'\n",
    "        self.driver.get(self.url)\n",
    "\n",
    "    def search(self, key):\n",
    "        self.driver.find_element_by_class_name('ipt-search').clear()\n",
    "        self.driver.find_element_by_class_name('ipt-search').send_keys(key)\n",
    "        self.driver.find_element_by_class_name('btn-search').click()\n",
    "        time.sleep(5)\n",
    "        self.driver.find_element_by_xpath('//*[@ka=\"sel-city-100010000\"]').click()\n",
    "        time.sleep(5)\n",
    "\n",
    "    def next_page(self):\n",
    "        self.driver.find_element_by_class_name('next').click()\n",
    "        time.sleep(5)\n",
    "\n",
    "    def catch(self, file_name):\n",
    "        company_list = self.driver.find_elements_by_class_name('job-primary')\n",
    "        excel = pd.DataFrame(columns=('job', 'place', 'salary', 'limit', 'tags'))\n",
    "        for company in company_list:\n",
    "            job = company.find_element_by_class_name('job-name').text\n",
    "            place = company.find_element_by_class_name('job-area').text\n",
    "            salary = company.find_element_by_class_name('red').text\n",
    "            limit = company.find_element_by_class_name('job-limit').find_element_by_tag_name('p').text\n",
    "            tag_str = ''\n",
    "            for tag in company.find_elements_by_class_name('tag-item'):\n",
    "                tag_str += tag.text + ' '\n",
    "            excel = excel.append({'job':job,\n",
    "                          'place':place,\n",
    "                          'salary':salary,\n",
    "                          'limit':limit,\n",
    "                          'tags':tag_str},ignore_index=True)\n",
    "        print(excel)\n",
    "        excel.to_csv(file_name + '.csv')\n"
   ]
  },
  {
   "cell_type": "code",
   "execution_count": 5,
   "metadata": {
    "pycharm": {
     "is_executing": true,
     "name": "#%%\n"
    }
   },
   "outputs": [
    {
     "name": "stderr",
     "output_type": "stream",
     "text": [
      "<ipython-input-2-de57600ea21c>:5: DeprecationWarning: use options instead of chrome_options\n",
      "  self.driver = selenium.webdriver.Chrome('C:/environment/chromedriver.exe',\n"
     ]
    },
    {
     "name": "stdout",
     "output_type": "stream",
     "text": [
      "                      job          place    salary      limit  \\\n",
      "0    底薪5500💰薪资保底一年/实习/大平台      成都·武侯区·双楠     7-12K     经验不限本科   \n",
      "1       行政班/银行分期客服/保底4500      成都·青羊区·中坝  6-8K·13薪  1-3年中专/中技   \n",
      "2          12530热线接听 无通宵班   成都·武侯区·新会展中心      4-7K     经验不限大专   \n",
      "3            聘美容美体师不推销7K起     成都·锦江区·春熙路     7-12K     1-3年高中   \n",
      "4        知名银行坐席早九晚六双休五险一金    成都·成华区·SM广场     5-10K     经验不限高中   \n",
      "5          代理记账推销专员（周末双休）    成都·武侯区·火车南站      3-8K     1-3年大专   \n",
      "6                急招线上游戏推销      成都·金牛区·国宾     5-10K   经验不限学历不限   \n",
      "7                  舆情产品经理  成都·武侯区·复城国际广场    13-24K     经验不限本科   \n",
      "8               系统集成方案工程师  成都·武侯区·复城国际广场    15-20K     3-5年本科   \n",
      "9       6000+纯接听客服（无销售性质）   成都·武侯区·新会展中心      4-7K     经验不限大专   \n",
      "10                 电话回访客服     成都·武侯区·高升桥      2-3K   经验不限学历不限   \n",
      "11  无需加盟费开房产中介店 时间自由 团队激情     成都·双流区·航空港    20-40K   经验不限学历不限   \n",
      "12                   客服专员             成都      4-8K   经验不限学历不限   \n",
      "13               讲师助理双休稳定     成都·锦江区·红星路      4-8K  1年以内中专/中技   \n",
      "14                 秩序员巡逻岗    成都·成华区·熊猫基地      4-5K   经验不限学历不限   \n",
      "15                     领班     成都·武侯区·石羊场      5-8K   经验不限学历不限   \n",
      "16               保安（武侯金花）      成都·武侯区·金花      3-4K   经验不限学历不限   \n",
      "17        三嫂子火锅服务员+社保+包吃住     成都·武侯区·孵化园      3-5K   经验不限学历不限   \n",
      "18                   秩序专员      成都·武侯区·簇桥      4-5K     1年以内高中   \n",
      "19                    服务员     成都·青羊区·优品道      3-5K   1年以内学历不限   \n",
      "20        网红店零售彩妆师/龙湖时代天街     成都·郫都区·高新西      5-6K     1-3年高中   \n",
      "21                   医药代表     成都·青羊区·八宝街     6-10K     经验不限大专   \n",
      "22                 淘宝带货直播      成都·武侯区·簇桥    15-30K   经验不限学历不限   \n",
      "23                   行政前台      成都·成华区·龙潭      3-4K     经验不限大专   \n",
      "24           支付宝催收专员+五险一金    成都·金牛区·火车北站    10-11K   经验不限学历不限   \n",
      "25      可盖章/实习底薪5500/公平晋升      成都·武侯区·双楠      5-9K    在校/应届本科   \n",
      "26                   药店店员      成都·双流区·华阳      4-6K   经验不限学历不限   \n",
      "27                 电信客户经理     成都·武侯区·芳草街      4-9K   1-3年学历不限   \n",
      "28                   见习店长     成都·青羊区·八宝街     5-10K     3-5年大专   \n",
      "29            网格直销人员（锦江区）     成都·锦江区·牛市口      4-8K     经验不限高中   \n",
      "\n",
      "                         tags  \n",
      "0       带薪培训 电话客服 职前培训 招聘 房产   \n",
      "1        外呼客服 银行 金融 年终奖 电话客服   \n",
      "2   接听客服 在线客服 质检客服 电话客服 售前客服   \n",
      "3       月休四天 五险 包住 带薪培训 就近分配   \n",
      "4     外呼客服 银行 客服主管 客服经理 官方电话   \n",
      "5     电话销售 网络销售 代理记账 推销 周末双休   \n",
      "6   线上推广 用户增长 游戏推广 游戏运营 线上游戏   \n",
      "7       用户研究 项目管理 舆情 国际关系 新闻   \n",
      "8   硬件开发 ARM 驱动开发 信息娱乐系统 BSP   \n",
      "9   接听客服 客服经理 电话客服 售后客服 售前客服   \n",
      "10   全职兼职均可 回访客服 益普索 市场研究 兼职   \n",
      "11    销售主管 电话销售 面销 网络销售 门店销售   \n",
      "12  在线客服 微信客服 全职兼职均可 广告 网络渠道   \n",
      "13        讲师助理 助教 外勤 讲课 垃圾分类   \n",
      "14       保安 空置房 违章装修 秩序员 巡逻岗   \n",
      "15     服务员 包吃包住 包住 八小时工作制 包吃   \n",
      "16      商场保安 保安 安全器材 形象岗 小区内   \n",
      "17    包吃包住 工龄奖 月休四天 五险 底薪加提成   \n",
      "18    免费工装 包吃包住 月休四天 绩效奖金 五险   \n",
      "19        服务技能 参加培训 饮品 餐厅 招聘   \n",
      "20     彩妆顾问 化妆师 月休四天 八小时工作制    \n",
      "21  医药代表 BD经理 地面推广 线下推广 药店渠道   \n",
      "22    颜值主播 美食主播 电商主播 美妆主播 直播   \n",
      "23      行政前台 记录信息 保管公司 考勤情况    \n",
      "24       电销 保险 销售主管 地产销售 支付宝   \n",
      "25    市场推广 活动推广 市场专员 品牌活动 社交   \n",
      "26     药店销售 药品调剂 药店店员 医药 药剂师   \n",
      "27  商超 代理商销售 销售工程师 销售主管 电信业务   \n",
      "28    前厅管理 营销管理 出品质量 顾客服务 餐厅   \n",
      "29    直销人员 销售代表 移动宽带 推广维护 营销   \n"
     ]
    }
   ],
   "source": [
    "spider = Spider()\n",
    "\n",
    "search_list = ['助教','辅导']\n",
    "\n",
    "for each in search_list:\n",
    "    for i in range(10):\n",
    "        try:\n",
    "            spider.search(each)\n",
    "            spider.catch(each + '第' + str(i) + '页')\n",
    "            spider.next_page()\n",
    "        except:\n",
    "            break"
   ]
  },
  {
   "cell_type": "code",
   "execution_count": 166,
   "metadata": {
    "pycharm": {
     "name": "#%%\n"
    }
   },
   "outputs": [
    {
     "data": {
      "text/html": [
       "<div>\n",
       "<style scoped>\n",
       "    .dataframe tbody tr th:only-of-type {\n",
       "        vertical-align: middle;\n",
       "    }\n",
       "\n",
       "    .dataframe tbody tr th {\n",
       "        vertical-align: top;\n",
       "    }\n",
       "\n",
       "    .dataframe thead th {\n",
       "        text-align: right;\n",
       "    }\n",
       "</style>\n",
       "<table border=\"1\" class=\"dataframe\">\n",
       "  <thead>\n",
       "    <tr style=\"text-align: right;\">\n",
       "      <th></th>\n",
       "      <th>job</th>\n",
       "      <th>place</th>\n",
       "      <th>salary</th>\n",
       "      <th>limit</th>\n",
       "      <th>tags</th>\n",
       "      <th>地点</th>\n",
       "    </tr>\n",
       "  </thead>\n",
       "  <tbody>\n",
       "    <tr>\n",
       "      <th>0</th>\n",
       "      <td>家教</td>\n",
       "      <td>NaN</td>\n",
       "      <td>5K</td>\n",
       "      <td>专科</td>\n",
       "      <td>在线</td>\n",
       "      <td>place</td>\n",
       "    </tr>\n",
       "  </tbody>\n",
       "</table>\n",
       "</div>"
      ],
      "text/plain": [
       "  job place salary limit tags     地点\n",
       "0  家教   NaN     5K    专科   在线  place"
      ]
     },
     "execution_count": 166,
     "metadata": {},
     "output_type": "execute_result"
    }
   ],
   "source": [
    "excel = pd.DataFrame(columns=('job', 'place', 'salary', 'limit', 'tags'))\n",
    "excel = excel.append({'job':'家教',\n",
    "              '地点':'place',\n",
    "              'salary':'5K',\n",
    "              'limit':'专科',\n",
    "              'tags':'在线'}, ignore_index=True)\n",
    "excel"
   ]
  }
 ],
 "metadata": {
  "kernelspec": {
   "display_name": "Python 3",
   "language": "python",
   "name": "python3"
  },
  "language_info": {
   "codemirror_mode": {
    "name": "ipython",
    "version": 3
   },
   "file_extension": ".py",
   "mimetype": "text/x-python",
   "name": "python",
   "nbconvert_exporter": "python",
   "pygments_lexer": "ipython3",
   "version": "3.8.5"
  }
 },
 "nbformat": 4,
 "nbformat_minor": 1
}