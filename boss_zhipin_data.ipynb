{
 "cells": [
  {
   "cell_type": "code",
   "execution_count": 2,
   "metadata": {
    "collapsed": true
   },
   "outputs": [],
   "source": [
    "import pandas as pd\n",
    "import sklearn.model_selection"
   ]
  },
  {
   "cell_type": "code",
   "execution_count": 3,
   "outputs": [
    {
     "data": {
      "text/plain": "     城市     收入\n0    上海  64183\n1    北京  62361\n2    深圳  57543\n3    苏州  55476\n4    广州  55029\n..   ..    ...\n145  荆州  24174\n146  淮北  24143\n147  鹤壁  24093\n148  肇庆  24071\n149  孝感  24070\n\n[150 rows x 2 columns]",
      "text/html": "<div>\n<style scoped>\n    .dataframe tbody tr th:only-of-type {\n        vertical-align: middle;\n    }\n\n    .dataframe tbody tr th {\n        vertical-align: top;\n    }\n\n    .dataframe thead th {\n        text-align: right;\n    }\n</style>\n<table border=\"1\" class=\"dataframe\">\n  <thead>\n    <tr style=\"text-align: right;\">\n      <th></th>\n      <th>城市</th>\n      <th>收入</th>\n    </tr>\n  </thead>\n  <tbody>\n    <tr>\n      <th>0</th>\n      <td>上海</td>\n      <td>64183</td>\n    </tr>\n    <tr>\n      <th>1</th>\n      <td>北京</td>\n      <td>62361</td>\n    </tr>\n    <tr>\n      <th>2</th>\n      <td>深圳</td>\n      <td>57543</td>\n    </tr>\n    <tr>\n      <th>3</th>\n      <td>苏州</td>\n      <td>55476</td>\n    </tr>\n    <tr>\n      <th>4</th>\n      <td>广州</td>\n      <td>55029</td>\n    </tr>\n    <tr>\n      <th>...</th>\n      <td>...</td>\n      <td>...</td>\n    </tr>\n    <tr>\n      <th>145</th>\n      <td>荆州</td>\n      <td>24174</td>\n    </tr>\n    <tr>\n      <th>146</th>\n      <td>淮北</td>\n      <td>24143</td>\n    </tr>\n    <tr>\n      <th>147</th>\n      <td>鹤壁</td>\n      <td>24093</td>\n    </tr>\n    <tr>\n      <th>148</th>\n      <td>肇庆</td>\n      <td>24071</td>\n    </tr>\n    <tr>\n      <th>149</th>\n      <td>孝感</td>\n      <td>24070</td>\n    </tr>\n  </tbody>\n</table>\n<p>150 rows × 2 columns</p>\n</div>"
     },
     "execution_count": 3,
     "metadata": {},
     "output_type": "execute_result"
    }
   ],
   "source": [
    "city_income = pd.read_csv('城市收入.csv', index_col=0)\n",
    "city_income"
   ],
   "metadata": {
    "collapsed": false,
    "pycharm": {
     "name": "#%%\n"
    }
   }
  },
  {
   "cell_type": "code",
   "execution_count": 4,
   "outputs": [
    {
     "data": {
      "text/plain": "{'上海': 64183,\n '北京': 62361,\n '深圳': 57543,\n '苏州': 55476,\n '广州': 55029,\n '杭州': 54348,\n '南京': 52916,\n '宁波': 52402,\n '厦门': 50948,\n '无锡': 50373,\n '佛山': 49630,\n '绍兴': 49389,\n '东莞': 49331,\n '舟山': 49217,\n '珠海': 48107,\n '嘉兴': 47380,\n '温州': 46920,\n '中山': 46865,\n '常州': 45933,\n '长沙': 44647,\n '湖州': 44487,\n '金华': 44326,\n '台州': 43973,\n '武汉': 42133,\n '青岛': 42019,\n '克拉玛依': 41850,\n '包头': 41755,\n '乌海': 41551,\n '镇江': 40883,\n '济南': 39944,\n '天津': 39506,\n '鄂尔多斯': 38521,\n '沈阳': 48494,\n '嘉峪关': 38081,\n '大连': 37960,\n '东营': 37586,\n '乌鲁木齐': 37294,\n '南通': 37071,\n '威海': 36626,\n '马鞍山': 36482,\n '成都': 36142,\n '泉州': 36088,\n '阿拉善': 35854,\n '呼和浩特': 35683,\n '福州': 35376,\n '合肥': 35175,\n '昆明': 35032,\n '烟台': 34901,\n '淄博': 34730,\n '泰州': 34642,\n '南昌': 34191,\n '扬州': 34076,\n '株洲': 33953,\n '惠州': 33930,\n '郑州': 33105,\n '盘锦': 32978,\n '衢州': 32269,\n '丽水': 32245,\n '大庆': 31943,\n '芜湖': 31445,\n '西安': 31407,\n '新余': 31302,\n '海口': 31205,\n '攀枝花': 31044,\n '太原': 31031,\n '三亚': 30487,\n '银川': 30452,\n '兰州': 30403,\n '贵阳': 30310,\n '唐山': 30309,\n '鞍山': 30259,\n '哈尔滨': 30206,\n '金昌': 30095,\n '锡林郭勒': 30082,\n '潍坊': 30049,\n '湘潭': 29872,\n '廊坊': 29781,\n '营口': 29731,\n '江门': 29547,\n '盐城': 29488,\n '萍乡': 29417,\n '景德镇': 29369,\n '莱芜': 29254,\n '本溪': 29107,\n '呼伦贝尔': 28428,\n '哈密': 28346,\n '抚顺': 28085,\n '莆田': 27954,\n '海西': 27772,\n '淮安': 27696,\n '泰安': 27389,\n '徐州': 27385,\n '酒泉': 27269,\n '长春': 27204,\n '黄石': 27092,\n '柳州': 27041,\n '漳州': 26998,\n '石家庄': 26839,\n '南宁': 26798,\n '昌吉': 26708,\n '牡丹江': 26671,\n '巴音郭楞': 26632,\n '重庆': 26386,\n '滨州': 26371,\n '龙岩': 26247,\n '鄂州': 26202,\n '三明': 26200,\n '宜昌': 26193,\n '宣城': 26112,\n '石嘴山': 26105,\n '荆门': 26073,\n '襄阳': 26028,\n '鹰潭': 25965,\n '西宁': 25926,\n '济宁': 25902,\n '衡阳': 25901,\n '连云港': 25864,\n '防城港': 25781,\n '玉溪': 25767,\n '临沂': 25545,\n '辽阳': 25516,\n '北海': 25485,\n '铜陵': 25443,\n '日照': 25377,\n '德阳': 25330,\n '绵阳': 25216,\n '阳泉': 25134,\n '南平': 25012,\n '伊春': 24998,\n '焦作': 24890,\n '洛阳': 24882,\n '岳阳': 24812,\n '锦州': 24796,\n '丹东': 24762,\n '巴彦淖尔': 24742,\n '淮南': 24715,\n '九江': 24670,\n '蚌埠': 24634,\n '宁德': 24631,\n '秦皇岛': 24555,\n '汕头': 24428,\n '枣庄': 24334,\n '桂林': 24289,\n '乐山': 24278,\n '眉山': 24190,\n '荆州': 24174,\n '淮北': 24143,\n '鹤壁': 24093,\n '肇庆': 24071,\n '孝感': 24070}"
     },
     "execution_count": 4,
     "metadata": {},
     "output_type": "execute_result"
    }
   ],
   "source": [
    "city_income_dict = {}\n",
    "for index, row in city_income.iterrows():\n",
    "    city_income_dict[row['城市']] = row['收入']\n",
    "\n",
    "city_income_dict"
   ],
   "metadata": {
    "collapsed": false,
    "pycharm": {
     "name": "#%%\n"
    }
   }
  },
  {
   "cell_type": "code",
   "execution_count": 5,
   "outputs": [
    {
     "data": {
      "text/plain": "      job place  salary limit\n0    传单派送    南昌     3.0    不限\n1    传单派送    常德     3.5    不限\n2     NaN    徐州     3.5    不限\n3    传单派送    南宁     5.5    本科\n4     NaN    合肥     4.5    不限\n..    ...   ...     ...   ...\n264    家教    北京     4.0    不限\n265    家教    珠海     5.0    不限\n266    家教    天津     5.0    专科\n267    家教   石家庄     9.0    本科\n268    家教    福州     6.0    专科\n\n[269 rows x 4 columns]",
      "text/html": "<div>\n<style scoped>\n    .dataframe tbody tr th:only-of-type {\n        vertical-align: middle;\n    }\n\n    .dataframe tbody tr th {\n        vertical-align: top;\n    }\n\n    .dataframe thead th {\n        text-align: right;\n    }\n</style>\n<table border=\"1\" class=\"dataframe\">\n  <thead>\n    <tr style=\"text-align: right;\">\n      <th></th>\n      <th>job</th>\n      <th>place</th>\n      <th>salary</th>\n      <th>limit</th>\n    </tr>\n  </thead>\n  <tbody>\n    <tr>\n      <th>0</th>\n      <td>传单派送</td>\n      <td>南昌</td>\n      <td>3.0</td>\n      <td>不限</td>\n    </tr>\n    <tr>\n      <th>1</th>\n      <td>传单派送</td>\n      <td>常德</td>\n      <td>3.5</td>\n      <td>不限</td>\n    </tr>\n    <tr>\n      <th>2</th>\n      <td>NaN</td>\n      <td>徐州</td>\n      <td>3.5</td>\n      <td>不限</td>\n    </tr>\n    <tr>\n      <th>3</th>\n      <td>传单派送</td>\n      <td>南宁</td>\n      <td>5.5</td>\n      <td>本科</td>\n    </tr>\n    <tr>\n      <th>4</th>\n      <td>NaN</td>\n      <td>合肥</td>\n      <td>4.5</td>\n      <td>不限</td>\n    </tr>\n    <tr>\n      <th>...</th>\n      <td>...</td>\n      <td>...</td>\n      <td>...</td>\n      <td>...</td>\n    </tr>\n    <tr>\n      <th>264</th>\n      <td>家教</td>\n      <td>北京</td>\n      <td>4.0</td>\n      <td>不限</td>\n    </tr>\n    <tr>\n      <th>265</th>\n      <td>家教</td>\n      <td>珠海</td>\n      <td>5.0</td>\n      <td>不限</td>\n    </tr>\n    <tr>\n      <th>266</th>\n      <td>家教</td>\n      <td>天津</td>\n      <td>5.0</td>\n      <td>专科</td>\n    </tr>\n    <tr>\n      <th>267</th>\n      <td>家教</td>\n      <td>石家庄</td>\n      <td>9.0</td>\n      <td>本科</td>\n    </tr>\n    <tr>\n      <th>268</th>\n      <td>家教</td>\n      <td>福州</td>\n      <td>6.0</td>\n      <td>专科</td>\n    </tr>\n  </tbody>\n</table>\n<p>269 rows × 4 columns</p>\n</div>"
     },
     "execution_count": 5,
     "metadata": {},
     "output_type": "execute_result"
    }
   ],
   "source": [
    "boss_zhipin = pd.read_csv('职业总数据.csv')\n",
    "boss_zhipin"
   ],
   "metadata": {
    "collapsed": false,
    "pycharm": {
     "name": "#%%\n"
    }
   }
  },
  {
   "cell_type": "code",
   "execution_count": 6,
   "outputs": [],
   "source": [
    "boss_zhipin = boss_zhipin.replace('传单派送','服务类')\n",
    "boss_zhipin = boss_zhipin.replace('售货员','销售类')\n",
    "boss_zhipin = boss_zhipin.replace('推销员','销售类')\n",
    "boss_zhipin = boss_zhipin.replace('服务员','服务类')\n",
    "boss_zhipin = boss_zhipin.replace('家教','教育类')\n",
    "boss_zhipin = boss_zhipin.replace('快递员','服务类')"
   ],
   "metadata": {
    "collapsed": false,
    "pycharm": {
     "name": "#%%\n"
    }
   }
  },
  {
   "cell_type": "code",
   "execution_count": 7,
   "outputs": [
    {
     "data": {
      "text/plain": "      职业 城市平均收入   时薪 学历限制\n0    服务类  34191  3.0   不限\n1    服务类     常德  3.5   不限\n2    NaN  27385  3.5   不限\n3    服务类  26798  5.5   本科\n4    NaN  35175  4.5   不限\n..   ...    ...  ...  ...\n264  教育类  62361  4.0   不限\n265  教育类  48107  5.0   不限\n266  教育类  39506  5.0   专科\n267  教育类  26839  9.0   本科\n268  教育类  35376  6.0   专科\n\n[269 rows x 4 columns]",
      "text/html": "<div>\n<style scoped>\n    .dataframe tbody tr th:only-of-type {\n        vertical-align: middle;\n    }\n\n    .dataframe tbody tr th {\n        vertical-align: top;\n    }\n\n    .dataframe thead th {\n        text-align: right;\n    }\n</style>\n<table border=\"1\" class=\"dataframe\">\n  <thead>\n    <tr style=\"text-align: right;\">\n      <th></th>\n      <th>职业</th>\n      <th>城市平均收入</th>\n      <th>时薪</th>\n      <th>学历限制</th>\n    </tr>\n  </thead>\n  <tbody>\n    <tr>\n      <th>0</th>\n      <td>服务类</td>\n      <td>34191</td>\n      <td>3.0</td>\n      <td>不限</td>\n    </tr>\n    <tr>\n      <th>1</th>\n      <td>服务类</td>\n      <td>常德</td>\n      <td>3.5</td>\n      <td>不限</td>\n    </tr>\n    <tr>\n      <th>2</th>\n      <td>NaN</td>\n      <td>27385</td>\n      <td>3.5</td>\n      <td>不限</td>\n    </tr>\n    <tr>\n      <th>3</th>\n      <td>服务类</td>\n      <td>26798</td>\n      <td>5.5</td>\n      <td>本科</td>\n    </tr>\n    <tr>\n      <th>4</th>\n      <td>NaN</td>\n      <td>35175</td>\n      <td>4.5</td>\n      <td>不限</td>\n    </tr>\n    <tr>\n      <th>...</th>\n      <td>...</td>\n      <td>...</td>\n      <td>...</td>\n      <td>...</td>\n    </tr>\n    <tr>\n      <th>264</th>\n      <td>教育类</td>\n      <td>62361</td>\n      <td>4.0</td>\n      <td>不限</td>\n    </tr>\n    <tr>\n      <th>265</th>\n      <td>教育类</td>\n      <td>48107</td>\n      <td>5.0</td>\n      <td>不限</td>\n    </tr>\n    <tr>\n      <th>266</th>\n      <td>教育类</td>\n      <td>39506</td>\n      <td>5.0</td>\n      <td>专科</td>\n    </tr>\n    <tr>\n      <th>267</th>\n      <td>教育类</td>\n      <td>26839</td>\n      <td>9.0</td>\n      <td>本科</td>\n    </tr>\n    <tr>\n      <th>268</th>\n      <td>教育类</td>\n      <td>35376</td>\n      <td>6.0</td>\n      <td>专科</td>\n    </tr>\n  </tbody>\n</table>\n<p>269 rows × 4 columns</p>\n</div>"
     },
     "execution_count": 7,
     "metadata": {},
     "output_type": "execute_result"
    }
   ],
   "source": [
    "for key in city_income_dict:\n",
    "    boss_zhipin = boss_zhipin.replace(key, city_income_dict[key])\n",
    "\n",
    "boss_zhipin.columns = ['职业', '城市平均收入', '时薪', '学历限制']\n",
    "boss_zhipin"
   ],
   "metadata": {
    "collapsed": false,
    "pycharm": {
     "name": "#%%\n"
    }
   }
  },
  {
   "cell_type": "code",
   "execution_count": 8,
   "outputs": [
    {
     "data": {
      "text/plain": "      职业 城市平均收入   时薪 学历限制\n0    服务类  34191  3.0   不限\n1    服务类   None  3.5   不限\n2    NaN  27385  3.5   不限\n3    服务类  26798  5.5   本科\n4    NaN  35175  4.5   不限\n..   ...    ...  ...  ...\n264  教育类  62361  4.0   不限\n265  教育类  48107  5.0   不限\n266  教育类  39506  5.0   专科\n267  教育类  26839  9.0   本科\n268  教育类  35376  6.0   专科\n\n[269 rows x 4 columns]",
      "text/html": "<div>\n<style scoped>\n    .dataframe tbody tr th:only-of-type {\n        vertical-align: middle;\n    }\n\n    .dataframe tbody tr th {\n        vertical-align: top;\n    }\n\n    .dataframe thead th {\n        text-align: right;\n    }\n</style>\n<table border=\"1\" class=\"dataframe\">\n  <thead>\n    <tr style=\"text-align: right;\">\n      <th></th>\n      <th>职业</th>\n      <th>城市平均收入</th>\n      <th>时薪</th>\n      <th>学历限制</th>\n    </tr>\n  </thead>\n  <tbody>\n    <tr>\n      <th>0</th>\n      <td>服务类</td>\n      <td>34191</td>\n      <td>3.0</td>\n      <td>不限</td>\n    </tr>\n    <tr>\n      <th>1</th>\n      <td>服务类</td>\n      <td>None</td>\n      <td>3.5</td>\n      <td>不限</td>\n    </tr>\n    <tr>\n      <th>2</th>\n      <td>NaN</td>\n      <td>27385</td>\n      <td>3.5</td>\n      <td>不限</td>\n    </tr>\n    <tr>\n      <th>3</th>\n      <td>服务类</td>\n      <td>26798</td>\n      <td>5.5</td>\n      <td>本科</td>\n    </tr>\n    <tr>\n      <th>4</th>\n      <td>NaN</td>\n      <td>35175</td>\n      <td>4.5</td>\n      <td>不限</td>\n    </tr>\n    <tr>\n      <th>...</th>\n      <td>...</td>\n      <td>...</td>\n      <td>...</td>\n      <td>...</td>\n    </tr>\n    <tr>\n      <th>264</th>\n      <td>教育类</td>\n      <td>62361</td>\n      <td>4.0</td>\n      <td>不限</td>\n    </tr>\n    <tr>\n      <th>265</th>\n      <td>教育类</td>\n      <td>48107</td>\n      <td>5.0</td>\n      <td>不限</td>\n    </tr>\n    <tr>\n      <th>266</th>\n      <td>教育类</td>\n      <td>39506</td>\n      <td>5.0</td>\n      <td>专科</td>\n    </tr>\n    <tr>\n      <th>267</th>\n      <td>教育类</td>\n      <td>26839</td>\n      <td>9.0</td>\n      <td>本科</td>\n    </tr>\n    <tr>\n      <th>268</th>\n      <td>教育类</td>\n      <td>35376</td>\n      <td>6.0</td>\n      <td>专科</td>\n    </tr>\n  </tbody>\n</table>\n<p>269 rows × 4 columns</p>\n</div>"
     },
     "execution_count": 8,
     "metadata": {},
     "output_type": "execute_result"
    }
   ],
   "source": [
    "import re\n",
    "\n",
    "for index, row in boss_zhipin.iterrows():\n",
    "    if not re.match('\\d+', str(row['城市平均收入'])):\n",
    "        boss_zhipin.loc[index, '城市平均收入'] = None\n",
    "boss_zhipin"
   ],
   "metadata": {
    "collapsed": false,
    "pycharm": {
     "name": "#%%\n"
    }
   }
  },
  {
   "cell_type": "code",
   "execution_count": 60,
   "outputs": [],
   "source": [
    "boss_zhipin.dropna(axis=0, how='any', inplace=True)\n",
    "boss_zhipin.to_csv('Boss 直聘数据集-分类后.csv')"
   ],
   "metadata": {
    "collapsed": false,
    "pycharm": {
     "name": "#%%\n"
    }
   }
  },
  {
   "cell_type": "code",
   "execution_count": 49,
   "outputs": [
    {
     "data": {
      "text/plain": "array([['服务类'],\n       ['服务类'],\n       ['服务类'],\n       ['服务类'],\n       ['服务类'],\n       ['服务类'],\n       ['服务类'],\n       ['服务类'],\n       ['服务类'],\n       ['服务类'],\n       ['服务类'],\n       ['服务类'],\n       ['服务类'],\n       ['服务类'],\n       ['服务类'],\n       ['服务类'],\n       ['服务类'],\n       ['服务类'],\n       ['服务类'],\n       ['服务类'],\n       ['服务类'],\n       ['服务类'],\n       ['服务类'],\n       ['服务类'],\n       ['服务类'],\n       ['服务类'],\n       ['服务类'],\n       ['服务类'],\n       ['服务类'],\n       ['服务类'],\n       ['服务类'],\n       ['服务类'],\n       ['服务类'],\n       ['服务类'],\n       ['教育类'],\n       ['教育类'],\n       ['教育类'],\n       ['教育类'],\n       ['教育类'],\n       ['教育类'],\n       ['教育类'],\n       ['教育类'],\n       ['教育类'],\n       ['教育类'],\n       ['教育类'],\n       ['教育类'],\n       ['教育类'],\n       ['教育类'],\n       ['教育类'],\n       ['教育类'],\n       ['教育类'],\n       ['教育类'],\n       ['教育类'],\n       ['教育类'],\n       ['教育类'],\n       ['教育类'],\n       ['教育类'],\n       ['教育类'],\n       ['教育类'],\n       ['教育类'],\n       ['教育类'],\n       ['教育类'],\n       ['教育类'],\n       ['教育类'],\n       ['教育类'],\n       ['教育类'],\n       ['教育类'],\n       ['教育类'],\n       ['教育类'],\n       ['教育类'],\n       ['教育类'],\n       ['教育类'],\n       ['教育类'],\n       ['教育类'],\n       ['教育类'],\n       ['教育类'],\n       ['教育类'],\n       ['教育类'],\n       ['教育类'],\n       ['教育类'],\n       ['教育类'],\n       ['教育类'],\n       ['教育类'],\n       ['教育类'],\n       ['教育类'],\n       ['教育类'],\n       ['教育类'],\n       ['教育类'],\n       ['教育类'],\n       ['教育类'],\n       ['教育类'],\n       ['教育类'],\n       ['服务类'],\n       ['服务类'],\n       ['服务类'],\n       ['服务类'],\n       ['服务类'],\n       ['服务类'],\n       ['服务类'],\n       ['服务类'],\n       ['服务类'],\n       ['服务类'],\n       ['服务类'],\n       ['服务类'],\n       ['服务类'],\n       ['服务类'],\n       ['服务类'],\n       ['服务类'],\n       ['服务类'],\n       ['服务类'],\n       ['服务类'],\n       ['服务类'],\n       ['服务类'],\n       ['服务类'],\n       ['服务类'],\n       ['服务类'],\n       ['服务类'],\n       ['服务类'],\n       ['服务类'],\n       ['服务类'],\n       ['服务类'],\n       ['服务类'],\n       ['服务类'],\n       ['服务类'],\n       ['服务类'],\n       ['服务类'],\n       ['服务类'],\n       ['服务类'],\n       ['服务类'],\n       ['服务类'],\n       ['服务类'],\n       ['服务类'],\n       ['服务类'],\n       ['服务类'],\n       ['服务类'],\n       ['服务类'],\n       ['服务类'],\n       ['服务类'],\n       ['服务类'],\n       ['服务类'],\n       ['服务类'],\n       ['服务类'],\n       ['服务类'],\n       ['服务类'],\n       ['服务类'],\n       ['服务类'],\n       ['服务类'],\n       ['服务类'],\n       ['服务类'],\n       ['服务类'],\n       ['销售类'],\n       ['销售类'],\n       ['销售类'],\n       ['销售类'],\n       ['销售类'],\n       ['销售类'],\n       ['销售类'],\n       ['销售类'],\n       ['销售类'],\n       ['销售类'],\n       ['销售类'],\n       ['销售类'],\n       ['销售类'],\n       ['销售类'],\n       ['销售类'],\n       ['销售类'],\n       ['销售类'],\n       ['销售类'],\n       ['销售类'],\n       ['销售类'],\n       ['销售类'],\n       ['销售类'],\n       ['销售类'],\n       ['销售类'],\n       ['销售类'],\n       ['销售类'],\n       ['销售类'],\n       ['销售类'],\n       ['销售类'],\n       ['销售类'],\n       ['销售类'],\n       ['销售类'],\n       ['销售类'],\n       ['销售类'],\n       ['销售类'],\n       ['销售类'],\n       ['销售类'],\n       ['销售类'],\n       ['销售类'],\n       ['销售类'],\n       ['销售类'],\n       ['教育类'],\n       ['教育类'],\n       ['教育类'],\n       ['教育类'],\n       ['教育类'],\n       ['教育类'],\n       ['教育类'],\n       ['教育类'],\n       ['教育类'],\n       ['教育类'],\n       ['教育类'],\n       ['教育类'],\n       ['教育类'],\n       ['教育类'],\n       ['教育类'],\n       ['教育类'],\n       ['教育类'],\n       ['教育类'],\n       ['教育类'],\n       ['教育类'],\n       ['教育类'],\n       ['教育类'],\n       ['教育类'],\n       ['教育类'],\n       ['教育类'],\n       ['教育类']], dtype=object)"
     },
     "execution_count": 49,
     "metadata": {},
     "output_type": "execute_result"
    }
   ],
   "source": [
    "import numpy as np\n",
    "import sklearn.impute\n",
    "\n",
    "job_array = np.array(boss_zhipin['职业'])\n",
    "job_array = sklearn.impute.SimpleImputer(strategy='most_frequent').fit_transform(job_array.reshape(-1,1))\n",
    "job_array"
   ],
   "metadata": {
    "collapsed": false,
    "pycharm": {
     "name": "#%%\n"
    }
   }
  },
  {
   "cell_type": "code",
   "execution_count": 50,
   "outputs": [
    {
     "data": {
      "text/plain": "array(['教育类', '服务类', '销售类'], dtype=object)"
     },
     "execution_count": 50,
     "metadata": {},
     "output_type": "execute_result"
    }
   ],
   "source": [
    "np.unique(job_array)"
   ],
   "metadata": {
    "collapsed": false,
    "pycharm": {
     "name": "#%%\n"
    }
   }
  },
  {
   "cell_type": "code",
   "execution_count": 51,
   "outputs": [
    {
     "name": "stderr",
     "output_type": "stream",
     "text": [
      "c:\\environment\\python3.8.5\\lib\\site-packages\\sklearn\\utils\\validation.py:72: DataConversionWarning: A column-vector y was passed when a 1d array was expected. Please change the shape of y to (n_samples, ), for example using ravel().\n",
      "  return f(**kwargs)\n"
     ]
    },
    {
     "data": {
      "text/plain": "array([1, 1, 1, 1, 1, 1, 1, 1, 1, 1, 1, 1, 1, 1, 1, 1, 1, 1, 1, 1, 1, 1,\n       1, 1, 1, 1, 1, 1, 1, 1, 1, 1, 1, 1, 0, 0, 0, 0, 0, 0, 0, 0, 0, 0,\n       0, 0, 0, 0, 0, 0, 0, 0, 0, 0, 0, 0, 0, 0, 0, 0, 0, 0, 0, 0, 0, 0,\n       0, 0, 0, 0, 0, 0, 0, 0, 0, 0, 0, 0, 0, 0, 0, 0, 0, 0, 0, 0, 0, 0,\n       0, 0, 0, 0, 1, 1, 1, 1, 1, 1, 1, 1, 1, 1, 1, 1, 1, 1, 1, 1, 1, 1,\n       1, 1, 1, 1, 1, 1, 1, 1, 1, 1, 1, 1, 1, 1, 1, 1, 1, 1, 1, 1, 1, 1,\n       1, 1, 1, 1, 1, 1, 1, 1, 1, 1, 1, 1, 1, 1, 1, 1, 1, 1, 2, 2, 2, 2,\n       2, 2, 2, 2, 2, 2, 2, 2, 2, 2, 2, 2, 2, 2, 2, 2, 2, 2, 2, 2, 2, 2,\n       2, 2, 2, 2, 2, 2, 2, 2, 2, 2, 2, 2, 2, 2, 2, 0, 0, 0, 0, 0, 0, 0,\n       0, 0, 0, 0, 0, 0, 0, 0, 0, 0, 0, 0, 0, 0, 0, 0, 0, 0, 0])"
     },
     "execution_count": 51,
     "metadata": {},
     "output_type": "execute_result"
    }
   ],
   "source": [
    "target = sklearn.preprocessing.LabelEncoder().fit_transform(job_array)\n",
    "target"
   ],
   "metadata": {
    "collapsed": false,
    "pycharm": {
     "name": "#%%\n"
    }
   }
  },
  {
   "cell_type": "code",
   "execution_count": 52,
   "outputs": [
    {
     "data": {
      "text/plain": "array([[34191.],\n       [26798.],\n       [62361.],\n       [57543.],\n       [64183.],\n       [64183.],\n       [30049.],\n       [34191.],\n       [30206.],\n       [50948.],\n       [34191.],\n       [27204.],\n       [36142.],\n       [44647.],\n       [52916.],\n       [44647.],\n       [34191.],\n       [39944.],\n       [54348.],\n       [37294.],\n       [39506.],\n       [57543.],\n       [55029.],\n       [35683.],\n       [26386.],\n       [64183.],\n       [62361.],\n       [48107.],\n       [48107.],\n       [39506.],\n       [55029.],\n       [44487.],\n       [48107.],\n       [49630.],\n       [62361.],\n       [57543.],\n       [31407.],\n       [57543.],\n       [26839.],\n       [48494.],\n       [31407.],\n       [55029.],\n       [36142.],\n       [42133.],\n       [36142.],\n       [62361.],\n       [42133.],\n       [35376.],\n       [64183.],\n       [62361.],\n       [35032.],\n       [39944.],\n       [44647.],\n       [31407.],\n       [31407.],\n       [31407.],\n       [62361.],\n       [57543.],\n       [62361.],\n       [64183.],\n       [36142.],\n       [42133.],\n       [34191.],\n       [46920.],\n       [62361.],\n       [52916.],\n       [54348.],\n       [26839.],\n       [34191.],\n       [64183.],\n       [64183.],\n       [42019.],\n       [55029.],\n       [26839.],\n       [62361.],\n       [50373.],\n       [27204.],\n       [64183.],\n       [33105.],\n       [52402.],\n       [29547.],\n       [31407.],\n       [33105.],\n       [25545.],\n       [31205.],\n       [55476.],\n       [44647.],\n       [43973.],\n       [35175.],\n       [44647.],\n       [35175.],\n       [44647.],\n       [42133.],\n       [24670.],\n       [31445.],\n       [64183.],\n       [54348.],\n       [30487.],\n       [26798.],\n       [26386.],\n       [42133.],\n       [44326.],\n       [34076.],\n       [31407.],\n       [57543.],\n       [52916.],\n       [62361.],\n       [48107.],\n       [55029.],\n       [44487.],\n       [62361.],\n       [57543.],\n       [26386.],\n       [36142.],\n       [49630.],\n       [64183.],\n       [55029.],\n       [55029.],\n       [54348.],\n       [62361.],\n       [36142.],\n       [36142.],\n       [36142.],\n       [36142.],\n       [36142.],\n       [36142.],\n       [36142.],\n       [36142.],\n       [36142.],\n       [36142.],\n       [36142.],\n       [36142.],\n       [36142.],\n       [36142.],\n       [36142.],\n       [36142.],\n       [36142.],\n       [36142.],\n       [36142.],\n       [36142.],\n       [36142.],\n       [36142.],\n       [36142.],\n       [36142.],\n       [36142.],\n       [36142.],\n       [36142.],\n       [36142.],\n       [36142.],\n       [36142.],\n       [39506.],\n       [55029.],\n       [37960.],\n       [39506.],\n       [46920.],\n       [26839.],\n       [30206.],\n       [26371.],\n       [30452.],\n       [30452.],\n       [35683.],\n       [26193.],\n       [42019.],\n       [35376.],\n       [32245.],\n       [26839.],\n       [57543.],\n       [48107.],\n       [48494.],\n       [55029.],\n       [55029.],\n       [35683.],\n       [48494.],\n       [34901.],\n       [57543.],\n       [64183.],\n       [33930.],\n       [27385.],\n       [26839.],\n       [25377.],\n       [31445.],\n       [32269.],\n       [30206.],\n       [26839.],\n       [36142.],\n       [30206.],\n       [31031.],\n       [26839.],\n       [44326.],\n       [44326.],\n       [44647.],\n       [27954.],\n       [33105.],\n       [44487.],\n       [46920.],\n       [55476.],\n       [62361.],\n       [57543.],\n       [49331.],\n       [30206.],\n       [36142.],\n       [24890.],\n       [44647.],\n       [62361.],\n       [26839.],\n       [62361.],\n       [64183.],\n       [49630.],\n       [37960.],\n       [26798.],\n       [49331.],\n       [31407.],\n       [62361.],\n       [48107.],\n       [39506.],\n       [26839.],\n       [35376.]])"
     },
     "execution_count": 52,
     "metadata": {},
     "output_type": "execute_result"
    }
   ],
   "source": [
    "city_mean_income = np.array(boss_zhipin['城市平均收入'])\n",
    "city_mean_income = sklearn.impute.SimpleImputer(strategy='median').fit_transform(city_mean_income.reshape(-1,1))\n",
    "city_mean_income"
   ],
   "metadata": {
    "collapsed": false,
    "pycharm": {
     "name": "#%%\n"
    }
   }
  },
  {
   "cell_type": "code",
   "execution_count": 53,
   "outputs": [
    {
     "data": {
      "text/plain": "array([[ 3.  ],\n       [ 5.5 ],\n       [ 8.5 ],\n       [ 7.5 ],\n       [ 6.5 ],\n       [10.5 ],\n       [ 7.  ],\n       [13.5 ],\n       [ 5.  ],\n       [ 3.5 ],\n       [ 6.  ],\n       [ 3.5 ],\n       [ 3.5 ],\n       [ 4.2 ],\n       [ 4.8 ],\n       [26.4 ],\n       [ 1.5 ],\n       [ 2.5 ],\n       [ 3.5 ],\n       [ 4.5 ],\n       [ 3.  ],\n       [ 4.5 ],\n       [ 3.  ],\n       [ 3.5 ],\n       [ 1.5 ],\n       [ 4.2 ],\n       [ 6.  ],\n       [ 5.5 ],\n       [ 3.5 ],\n       [ 1.5 ],\n       [ 3.5 ],\n       [ 1.5 ],\n       [ 4.2 ],\n       [ 3.5 ],\n       [17.5 ],\n       [42.5 ],\n       [ 8.5 ],\n       [21.  ],\n       [ 7.  ],\n       [ 7.5 ],\n       [ 9.5 ],\n       [ 4.  ],\n       [10.5 ],\n       [22.5 ],\n       [ 8.5 ],\n       [13.5 ],\n       [ 4.05],\n       [ 6.5 ],\n       [16.  ],\n       [30.  ],\n       [17.5 ],\n       [ 9.5 ],\n       [ 7.5 ],\n       [15.  ],\n       [ 9.5 ],\n       [ 8.  ],\n       [25.  ],\n       [22.5 ],\n       [30.  ],\n       [16.  ],\n       [10.5 ],\n       [ 8.5 ],\n       [22.5 ],\n       [ 6.  ],\n       [ 9.5 ],\n       [ 2.5 ],\n       [ 8.  ],\n       [ 1.95],\n       [ 6.  ],\n       [12.5 ],\n       [12.5 ],\n       [ 5.  ],\n       [ 4.5 ],\n       [10.5 ],\n       [ 4.  ],\n       [14.5 ],\n       [ 2.5 ],\n       [16.  ],\n       [ 4.  ],\n       [ 1.5 ],\n       [ 1.5 ],\n       [ 7.  ],\n       [ 4.5 ],\n       [ 6.  ],\n       [ 3.5 ],\n       [ 4.5 ],\n       [ 3.5 ],\n       [ 4.  ],\n       [10.5 ],\n       [10.5 ],\n       [ 4.  ],\n       [ 5.  ],\n       [ 4.5 ],\n       [ 6.  ],\n       [ 5.  ],\n       [ 5.5 ],\n       [ 7.5 ],\n       [ 7.  ],\n       [ 6.5 ],\n       [ 4.5 ],\n       [18.  ],\n       [ 4.  ],\n       [ 6.  ],\n       [ 5.  ],\n       [ 5.5 ],\n       [ 5.  ],\n       [10.5 ],\n       [ 4.  ],\n       [ 5.  ],\n       [ 6.  ],\n       [ 7.  ],\n       [ 7.5 ],\n       [ 4.  ],\n       [ 5.  ],\n       [12.5 ],\n       [ 7.  ],\n       [ 8.5 ],\n       [ 4.5 ],\n       [ 7.5 ],\n       [ 9.5 ],\n       [ 7.  ],\n       [ 7.  ],\n       [ 7.5 ],\n       [ 8.  ],\n       [ 7.5 ],\n       [15.5 ],\n       [ 4.5 ],\n       [ 5.  ],\n       [ 4.  ],\n       [ 3.  ],\n       [ 8.5 ],\n       [ 6.5 ],\n       [ 6.5 ],\n       [11.5 ],\n       [ 7.  ],\n       [ 8.  ],\n       [ 7.5 ],\n       [ 5.5 ],\n       [ 5.5 ],\n       [ 6.  ],\n       [ 7.5 ],\n       [22.5 ],\n       [16.  ],\n       [ 4.5 ],\n       [ 6.5 ],\n       [ 8.5 ],\n       [ 5.  ],\n       [30.  ],\n       [ 8.  ],\n       [ 4.  ],\n       [ 3.5 ],\n       [ 3.5 ],\n       [ 4.5 ],\n       [ 4.5 ],\n       [ 3.5 ],\n       [ 3.  ],\n       [ 2.5 ],\n       [ 4.5 ],\n       [ 3.  ],\n       [ 2.5 ],\n       [ 4.  ],\n       [ 7.  ],\n       [42.5 ],\n       [ 6.  ],\n       [ 3.5 ],\n       [ 7.5 ],\n       [17.5 ],\n       [ 3.5 ],\n       [ 5.5 ],\n       [ 5.5 ],\n       [ 3.5 ],\n       [ 3.5 ],\n       [ 4.  ],\n       [ 2.5 ],\n       [12.5 ],\n       [19.5 ],\n       [ 8.5 ],\n       [ 4.  ],\n       [ 4.  ],\n       [ 4.5 ],\n       [ 4.  ],\n       [ 8.5 ],\n       [ 6.  ],\n       [ 5.5 ],\n       [ 5.5 ],\n       [ 5.5 ],\n       [ 8.5 ],\n       [ 6.5 ],\n       [ 2.5 ],\n       [12.5 ],\n       [ 4.  ],\n       [55.  ],\n       [ 4.5 ],\n       [ 4.5 ],\n       [ 6.  ],\n       [ 8.5 ],\n       [ 1.5 ],\n       [ 8.5 ],\n       [ 5.5 ],\n       [ 6.  ],\n       [ 9.  ],\n       [ 3.5 ],\n       [ 2.5 ],\n       [17.5 ],\n       [ 2.5 ],\n       [ 6.5 ],\n       [10.  ],\n       [ 5.5 ],\n       [ 6.5 ],\n       [ 5.  ],\n       [ 6.5 ],\n       [ 5.  ],\n       [ 4.  ],\n       [ 5.  ],\n       [ 5.  ],\n       [ 9.  ],\n       [ 6.  ]])"
     },
     "execution_count": 53,
     "metadata": {},
     "output_type": "execute_result"
    }
   ],
   "source": [
    "salary_array = np.array(boss_zhipin['时薪']).reshape(-1, 1)\n",
    "salary_array"
   ],
   "metadata": {
    "collapsed": false,
    "pycharm": {
     "name": "#%%\n"
    }
   }
  },
  {
   "cell_type": "code",
   "execution_count": 54,
   "outputs": [
    {
     "data": {
      "text/plain": "array([[1., 0., 0.],\n       [0., 0., 1.],\n       [1., 0., 0.],\n       [1., 0., 0.],\n       [0., 0., 1.],\n       [1., 0., 0.],\n       [0., 1., 0.],\n       [1., 0., 0.],\n       [1., 0., 0.],\n       [1., 0., 0.],\n       [1., 0., 0.],\n       [1., 0., 0.],\n       [1., 0., 0.],\n       [1., 0., 0.],\n       [0., 0., 1.],\n       [0., 1., 0.],\n       [1., 0., 0.],\n       [1., 0., 0.],\n       [1., 0., 0.],\n       [1., 0., 0.],\n       [0., 1., 0.],\n       [1., 0., 0.],\n       [1., 0., 0.],\n       [1., 0., 0.],\n       [1., 0., 0.],\n       [1., 0., 0.],\n       [0., 0., 1.],\n       [1., 0., 0.],\n       [1., 0., 0.],\n       [1., 0., 0.],\n       [0., 0., 1.],\n       [1., 0., 0.],\n       [1., 0., 0.],\n       [1., 0., 0.],\n       [0., 0., 1.],\n       [0., 0., 1.],\n       [0., 0., 1.],\n       [0., 0., 1.],\n       [0., 0., 1.],\n       [0., 0., 1.],\n       [0., 0., 1.],\n       [0., 0., 1.],\n       [0., 0., 1.],\n       [0., 0., 1.],\n       [0., 0., 1.],\n       [0., 0., 1.],\n       [0., 0., 1.],\n       [0., 0., 1.],\n       [0., 1., 0.],\n       [0., 0., 1.],\n       [0., 0., 1.],\n       [0., 0., 1.],\n       [0., 1., 0.],\n       [0., 0., 1.],\n       [0., 0., 1.],\n       [0., 0., 1.],\n       [0., 0., 1.],\n       [0., 0., 1.],\n       [0., 0., 1.],\n       [0., 0., 1.],\n       [0., 0., 1.],\n       [0., 0., 1.],\n       [0., 0., 1.],\n       [0., 1., 0.],\n       [0., 0., 1.],\n       [0., 1., 0.],\n       [0., 0., 1.],\n       [0., 0., 1.],\n       [0., 0., 1.],\n       [0., 1., 0.],\n       [0., 1., 0.],\n       [0., 0., 1.],\n       [0., 0., 1.],\n       [0., 0., 1.],\n       [0., 0., 1.],\n       [0., 0., 1.],\n       [0., 1., 0.],\n       [1., 0., 0.],\n       [1., 0., 0.],\n       [0., 1., 0.],\n       [0., 1., 0.],\n       [0., 0., 1.],\n       [0., 0., 1.],\n       [0., 0., 1.],\n       [0., 0., 1.],\n       [0., 0., 1.],\n       [0., 0., 1.],\n       [0., 1., 0.],\n       [0., 0., 1.],\n       [0., 0., 1.],\n       [0., 0., 1.],\n       [1., 0., 0.],\n       [0., 1., 0.],\n       [1., 0., 0.],\n       [0., 1., 0.],\n       [0., 1., 0.],\n       [1., 0., 0.],\n       [0., 1., 0.],\n       [0., 0., 1.],\n       [0., 1., 0.],\n       [0., 1., 0.],\n       [0., 1., 0.],\n       [1., 0., 0.],\n       [0., 1., 0.],\n       [1., 0., 0.],\n       [0., 1., 0.],\n       [0., 1., 0.],\n       [0., 1., 0.],\n       [0., 1., 0.],\n       [0., 1., 0.],\n       [0., 1., 0.],\n       [0., 1., 0.],\n       [0., 1., 0.],\n       [0., 1., 0.],\n       [0., 1., 0.],\n       [0., 1., 0.],\n       [0., 1., 0.],\n       [0., 1., 0.],\n       [0., 1., 0.],\n       [0., 1., 0.],\n       [0., 0., 1.],\n       [1., 0., 0.],\n       [0., 0., 1.],\n       [0., 1., 0.],\n       [0., 0., 1.],\n       [0., 0., 1.],\n       [1., 0., 0.],\n       [1., 0., 0.],\n       [1., 0., 0.],\n       [0., 1., 0.],\n       [1., 0., 0.],\n       [0., 1., 0.],\n       [1., 0., 0.],\n       [1., 0., 0.],\n       [1., 0., 0.],\n       [0., 0., 1.],\n       [0., 0., 1.],\n       [1., 0., 0.],\n       [0., 1., 0.],\n       [0., 0., 1.],\n       [0., 0., 1.],\n       [1., 0., 0.],\n       [0., 1., 0.],\n       [1., 0., 0.],\n       [0., 0., 1.],\n       [0., 1., 0.],\n       [1., 0., 0.],\n       [1., 0., 0.],\n       [1., 0., 0.],\n       [1., 0., 0.],\n       [0., 0., 1.],\n       [0., 1., 0.],\n       [1., 0., 0.],\n       [1., 0., 0.],\n       [1., 0., 0.],\n       [1., 0., 0.],\n       [0., 0., 1.],\n       [1., 0., 0.],\n       [0., 1., 0.],\n       [1., 0., 0.],\n       [0., 0., 1.],\n       [1., 0., 0.],\n       [1., 0., 0.],\n       [1., 0., 0.],\n       [0., 1., 0.],\n       [1., 0., 0.],\n       [0., 0., 1.],\n       [0., 0., 1.],\n       [1., 0., 0.],\n       [0., 0., 1.],\n       [1., 0., 0.],\n       [1., 0., 0.],\n       [1., 0., 0.],\n       [1., 0., 0.],\n       [0., 0., 1.],\n       [0., 1., 0.],\n       [0., 0., 1.],\n       [1., 0., 0.],\n       [1., 0., 0.],\n       [1., 0., 0.],\n       [0., 0., 1.],\n       [1., 0., 0.],\n       [1., 0., 0.],\n       [1., 0., 0.],\n       [0., 1., 0.],\n       [1., 0., 0.],\n       [0., 0., 1.],\n       [1., 0., 0.],\n       [1., 0., 0.],\n       [0., 1., 0.],\n       [1., 0., 0.],\n       [0., 0., 1.],\n       [0., 1., 0.],\n       [0., 1., 0.],\n       [0., 1., 0.],\n       [0., 0., 1.],\n       [0., 1., 0.],\n       [0., 0., 1.],\n       [0., 0., 1.],\n       [0., 0., 1.],\n       [0., 0., 1.],\n       [1., 0., 0.],\n       [0., 0., 1.],\n       [0., 1., 0.],\n       [0., 0., 1.],\n       [0., 1., 0.],\n       [0., 1., 0.],\n       [1., 0., 0.],\n       [0., 0., 1.],\n       [0., 0., 1.],\n       [0., 1., 0.],\n       [0., 1., 0.],\n       [1., 0., 0.],\n       [1., 0., 0.],\n       [0., 1., 0.],\n       [0., 0., 1.],\n       [0., 1., 0.]])"
     },
     "execution_count": 54,
     "metadata": {},
     "output_type": "execute_result"
    }
   ],
   "source": [
    "limit_array = np.array(boss_zhipin['学历限制'])\n",
    "limit_array = sklearn.preprocessing.OneHotEncoder().fit_transform(limit_array.reshape(-1,1)).toarray()\n",
    "limit_array"
   ],
   "metadata": {
    "collapsed": false,
    "pycharm": {
     "name": "#%%\n"
    }
   }
  },
  {
   "cell_type": "code",
   "execution_count": 55,
   "outputs": [
    {
     "data": {
      "text/plain": "array([[3.4191e+04, 3.0000e+00, 1.0000e+00, 0.0000e+00, 0.0000e+00],\n       [2.6798e+04, 5.5000e+00, 0.0000e+00, 0.0000e+00, 1.0000e+00],\n       [6.2361e+04, 8.5000e+00, 1.0000e+00, 0.0000e+00, 0.0000e+00],\n       ...,\n       [3.9506e+04, 5.0000e+00, 0.0000e+00, 1.0000e+00, 0.0000e+00],\n       [2.6839e+04, 9.0000e+00, 0.0000e+00, 0.0000e+00, 1.0000e+00],\n       [3.5376e+04, 6.0000e+00, 0.0000e+00, 1.0000e+00, 0.0000e+00]])"
     },
     "execution_count": 55,
     "metadata": {},
     "output_type": "execute_result"
    }
   ],
   "source": [
    "data = np.concatenate((city_mean_income, salary_array, limit_array), axis=1)\n",
    "data"
   ],
   "metadata": {
    "collapsed": false,
    "pycharm": {
     "name": "#%%\n"
    }
   }
  },
  {
   "cell_type": "code",
   "execution_count": 56,
   "outputs": [],
   "source": [
    "import sklearn.ensemble\n",
    "\n",
    "class Model:\n",
    "    def __init__(self):\n",
    "        self.data = data\n",
    "        self.target = target\n",
    "        self.train_x, self.test_x, self.train_y, self.test_y = sklearn.model_selection.train_test_split(self.data, self.target)\n",
    "\n",
    "    def fit(self, n_estimators, max_depth, min_sample_leaf):\n",
    "        classifier = sklearn.ensemble.RandomForestClassifier(n_estimators=n_estimators,\n",
    "                                                             max_depth=max_depth,\n",
    "                                                             min_samples_leaf=min_sample_leaf,\n",
    "                                                             criterion='entropy')\n",
    "        classifier.fit(self.train_x, self.train_y)\n",
    "        return classifier.score(self.train_x, self.train_y), classifier.score(self.test_x, self.test_y)"
   ],
   "metadata": {
    "collapsed": false,
    "pycharm": {
     "name": "#%%\n"
    }
   }
  },
  {
   "cell_type": "code",
   "execution_count": 57,
   "outputs": [],
   "source": [
    "model = Model()"
   ],
   "metadata": {
    "collapsed": false,
    "pycharm": {
     "name": "#%%\n"
    }
   }
  },
  {
   "cell_type": "code",
   "execution_count": 57,
   "outputs": [],
   "source": [],
   "metadata": {
    "collapsed": false,
    "pycharm": {
     "name": "#%%\n"
    }
   }
  },
  {
   "cell_type": "code",
   "execution_count": 58,
   "outputs": [],
   "source": [
    "y=[]\n",
    "for i in range(1,40):\n",
    "    y.append(model.fit(10,10,int(i)))"
   ],
   "metadata": {
    "collapsed": false,
    "pycharm": {
     "name": "#%%\n"
    }
   }
  },
  {
   "cell_type": "code",
   "execution_count": 59,
   "outputs": [
    {
     "data": {
      "text/plain": "[<matplotlib.lines.Line2D at 0x1c3b684a850>,\n <matplotlib.lines.Line2D at 0x1c3b684a880>]"
     },
     "execution_count": 59,
     "metadata": {},
     "output_type": "execute_result"
    },
    {
     "data": {
      "text/plain": "<Figure size 432x288 with 1 Axes>",
      "image/png": "[encoded data removed]"
     },
     "metadata": {
      "needs_background": "light"
     },
     "output_type": "display_data"
    }
   ],
   "source": [
    "import matplotlib.pyplot as plt\n",
    "\n",
    "plt.plot(y)"
   ],
   "metadata": {
    "collapsed": false,
    "pycharm": {
     "name": "#%%\n"
    }
   }
  },
  {
   "cell_type": "code",
   "execution_count": 56,
   "outputs": [
    {
     "data": {
      "text/plain": "0.9054726368159204"
     },
     "execution_count": 56,
     "metadata": {},
     "output_type": "execute_result"
    }
   ],
   "source": [
    "classifier = sklearn.ensemble.GradientBoostingClassifier().fit(model.train_x, model.train_y)\n",
    "classifier.score(model.test_x, model.test_y)\n",
    "classifier.score(model.train_x, model.train_y)\n"
   ],
   "metadata": {
    "collapsed": false,
    "pycharm": {
     "name": "#%%\n"
    }
   }
  }
 ],
 "metadata": {
  "kernelspec": {
   "display_name": "Python 3",
   "language": "python",
   "name": "python3"
  },
  "language_info": {
   "codemirror_mode": {
    "name": "ipython",
    "version": 2
   },
   "file_extension": ".py",
   "mimetype": "text/x-python",
   "name": "python",
   "nbconvert_exporter": "python",
   "pygments_lexer": "ipython2",
   "version": "2.7.6"
  }
 },
 "nbformat": 4,
 "nbformat_minor": 0
}