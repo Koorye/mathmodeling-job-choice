{
 "cells": [
  {
   "cell_type": "code",
   "execution_count": 59,
   "metadata": {
    "collapsed": true
   },
   "outputs": [],
   "source": [
    "import numpy as np"
   ]
  },
  {
   "cell_type": "code",
   "execution_count": 60,
   "outputs": [],
   "source": [
    "working_time_matrix = np.mat([[1, 5, 5],\n",
    "                              [1/5, 1, 1],\n",
    "                              [1/5, 1, 1]])\n",
    "\n",
    "salary_matrix = np.mat([[1, 5, 5],\n",
    "                        [1/5, 1, 2],\n",
    "                        [1/5, 1/2 ,1]])\n",
    "\n",
    "safety_matrix = np.mat([[1, 3, 1],\n",
    "                        [1/3, 1, 1/3],\n",
    "                        [1, 3, 1]])\n",
    "\n",
    "distance_matrix = np.mat([[1, 5, 7],\n",
    "                          [1/5 ,1 ,3],\n",
    "                          [1/7, 1/3, 1]])\n",
    "\n",
    "manual_labour_matrix = np.mat([[1, 5, 5],\n",
    "                               [1/5, 1, 1/2],\n",
    "                               [1/5, 2, 1]])"
   ],
   "metadata": {
    "collapsed": false,
    "pycharm": {
     "name": "#%%\n"
    }
   }
  },
  {
   "cell_type": "code",
   "execution_count": 80,
   "outputs": [
    {
     "data": {
      "text/plain": "array([[0., 0., 0., 0., 0.],\n       [0., 0., 0., 0., 0.],\n       [0., 0., 0., 0., 0.],\n       [0., 0., 0., 0., 0.],\n       [0., 0., 0., 0., 0.]])"
     },
     "execution_count": 80,
     "metadata": {},
     "output_type": "execute_result"
    }
   ],
   "source": [
    "# 工作时间 0\n",
    "# 薪资 1\n",
    "# 安全性 2\n",
    "# 距离 3\n",
    "# 劳动强度 4\n",
    "\n",
    "prior_list = [0,4,3,2,1]\n",
    "choice_matrix = np.zeros((5, 5))\n",
    "choice_matrix"
   ],
   "metadata": {
    "collapsed": false,
    "pycharm": {
     "name": "#%%\n"
    }
   }
  },
  {
   "cell_type": "code",
   "execution_count": 81,
   "outputs": [
    {
     "data": {
      "text/plain": "array([[1.        , 9.        , 7.        , 5.        , 3.        ],\n       [0.11111111, 1.        , 0.33333333, 0.2       , 0.14285714],\n       [0.14285714, 3.        , 1.        , 0.33333333, 0.2       ],\n       [0.2       , 5.        , 3.        , 1.        , 0.33333333],\n       [0.33333333, 7.        , 5.        , 3.        , 1.        ]])"
     },
     "execution_count": 81,
     "metadata": {},
     "output_type": "execute_result"
    }
   ],
   "source": [
    "for i in range(len(prior_list)):\n",
    "    for j in range(len(prior_list)):\n",
    "        if j >= i:\n",
    "            dist = (j - i) * 2 + 1\n",
    "        else:\n",
    "            dist = 1 / ((i - j) * 2 + 1)\n",
    "        choice_matrix[prior_list[i], prior_list[j]] = dist\n",
    "\n",
    "choice_matrix"
   ],
   "metadata": {
    "collapsed": false,
    "pycharm": {
     "name": "#%%\n"
    }
   }
  },
  {
   "cell_type": "code",
   "execution_count": 82,
   "outputs": [],
   "source": [
    "def get_weight(matrix):\n",
    "    weight = np.real(np.array(np.linalg.eig(matrix)[1][:,0]).flatten())\n",
    "    return weight / np.sum(weight)"
   ],
   "metadata": {
    "collapsed": false,
    "pycharm": {
     "name": "#%%\n"
    }
   }
  },
  {
   "cell_type": "code",
   "execution_count": 83,
   "outputs": [],
   "source": [
    "working_time_weight = get_weight(working_time_matrix)\n",
    "salary_weight = get_weight(salary_matrix)\n",
    "safety_weight = get_weight(safety_matrix)\n",
    "distance_weight = get_weight(distance_matrix)\n",
    "manual_labour_weight = get_weight(manual_labour_matrix)"
   ],
   "metadata": {
    "collapsed": false,
    "pycharm": {
     "name": "#%%\n"
    }
   }
  },
  {
   "cell_type": "code",
   "execution_count": 84,
   "outputs": [],
   "source": [
    "analysis_layer = [working_time_weight,\n",
    "                  salary_weight,\n",
    "                  safety_weight,\n",
    "                  distance_weight,\n",
    "                  manual_labour_weight]"
   ],
   "metadata": {
    "collapsed": false,
    "pycharm": {
     "name": "#%%\n"
    }
   }
  },
  {
   "cell_type": "code",
   "execution_count": 85,
   "outputs": [
    {
     "data": {
      "text/plain": "array([0.51281281, 0.03333518, 0.06337653, 0.12897642, 0.26149906])"
     },
     "execution_count": 85,
     "metadata": {},
     "output_type": "execute_result"
    }
   ],
   "source": [
    "choice_weight = get_weight(choice_matrix)\n",
    "choice_weight"
   ],
   "metadata": {
    "collapsed": false,
    "pycharm": {
     "name": "#%%\n"
    }
   }
  },
  {
   "cell_type": "code",
   "execution_count": 58,
   "outputs": [
    {
     "data": {
      "text/plain": "[0.7978250203806718, 0.14746952049413029, 0.054705459125197885]"
     },
     "execution_count": 58,
     "metadata": {},
     "output_type": "execute_result"
    }
   ],
   "source": [
    "weight = np.zeros(len(working_time_weight)).tolist()\n",
    "for i in range(len(working_time_weight)):\n",
    "    for j in range(len(choice_weight)):\n",
    "        weight[i] += choice_weight[j] * analysis_layer[j][i]\n",
    "\n",
    "weight\n"
   ],
   "metadata": {
    "collapsed": false,
    "pycharm": {
     "name": "#%%\n"
    }
   }
  }
 ],
 "metadata": {
  "kernelspec": {
   "display_name": "Python 3",
   "language": "python",
   "name": "python3"
  },
  "language_info": {
   "codemirror_mode": {
    "name": "ipython",
    "version": 2
   },
   "file_extension": ".py",
   "mimetype": "text/x-python",
   "name": "python",
   "nbconvert_exporter": "python",
   "pygments_lexer": "ipython2",
   "version": "2.7.6"
  }
 },
 "nbformat": 4,
 "nbformat_minor": 0
}